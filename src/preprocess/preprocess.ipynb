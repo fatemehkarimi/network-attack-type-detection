{
 "cells": [
  {
   "cell_type": "code",
   "execution_count": 1,
   "id": "66479cea",
   "metadata": {},
   "outputs": [],
   "source": [
    "import sys\n",
    "import argparse\n",
    "import configparser\n",
    "import numpy as np\n",
    "import pandas as pd\n",
    "import matplotlib.pyplot as plt\n",
    "from sklearn.feature_selection import VarianceThreshold\n",
    "from metadata.const import features, class_label"
   ]
  },
  {
   "cell_type": "code",
   "execution_count": 2,
   "id": "5a8c4d8b",
   "metadata": {},
   "outputs": [],
   "source": [
    "def get_config(section):\n",
    "    config = configparser.RawConfigParser()\n",
    "    config.read('../settings.ini')\n",
    "    return dict(config.items(section))"
   ]
  },
  {
   "cell_type": "code",
   "execution_count": 3,
   "id": "8bdfef2c",
   "metadata": {},
   "outputs": [],
   "source": [
    "def remove_zero_variance(df, features):\n",
    "    const_filter = VarianceThreshold()\n",
    "    const_filter.fit(df)\n",
    "    cols = const_filter.get_support(indices=True)\n",
    "    return df.iloc[:, cols]"
   ]
  },
  {
   "cell_type": "code",
   "execution_count": 4,
   "id": "56d66c58",
   "metadata": {},
   "outputs": [],
   "source": [
    "def plot_correlation(correlation, filename, save=True, labels=None):\n",
    "    fig = plt.figure(figsize=(10.41, 7.29))\n",
    "    ax = fig.add_subplot(111)\n",
    "    cax = ax.matshow(correlation, vmin=-1, vmax=1)\n",
    "    fig.colorbar(cax)\n",
    "    if labels:\n",
    "        ticks = np.arange(0, len(labels), 1)\n",
    "        ax.set_xticks(ticks)\n",
    "        ax.set_yticks(ticks)\n",
    "        ax.set_xticklabels(labels)\n",
    "        ax.set_yticklabels(labels)\n",
    "\n",
    "        plt.setp(ax.get_xticklabels(), rotation=45, ha=\"left\",\n",
    "                rotation_mode=\"anchor\")\n",
    "    if save:\n",
    "        plt.savefig(filename)\n",
    "    else:\n",
    "        plt.show()"
   ]
  },
  {
   "cell_type": "code",
   "execution_count": 5,
   "id": "29fbcc35",
   "metadata": {},
   "outputs": [],
   "source": [
    "filename = 'sample-200000.csv'\n",
    "df = pd.read_csv(f'../dataset/{filename}', dtype={features['similar_http']: str})\n",
    "df.drop(\n",
    "    [\n",
    "        features['unnamed0'],\n",
    "        features['flow_id'],\n",
    "        features['source_ip'],\n",
    "        features['source_port'],\n",
    "        features['destination_ip'],\n",
    "        features['destination_port'],\n",
    "        features['timestamp'],\n",
    "        features['similar_http'],\n",
    "    ],\n",
    "    axis=1,\n",
    "    inplace=True\n",
    ")"
   ]
  },
  {
   "cell_type": "code",
   "execution_count": 6,
   "id": "6dc045a5",
   "metadata": {},
   "outputs": [],
   "source": [
    "df.replace([np.inf, -np.inf], np.nan, inplace=True)\n",
    "df.dropna(axis=0, inplace=True)"
   ]
  },
  {
   "cell_type": "code",
   "execution_count": 7,
   "id": "eaa764b4",
   "metadata": {},
   "outputs": [],
   "source": [
    "categorical_features = [features['protocol'], features['inbound']]\n",
    "numeric_features = [f for f in df.columns\n",
    "                        if f not in categorical_features]"
   ]
  },
  {
   "cell_type": "code",
   "execution_count": 8,
   "id": "4b2e23a2",
   "metadata": {},
   "outputs": [],
   "source": [
    "df.loc[df[class_label] == 'BENIGN', class_label] = 0\n",
    "df.loc[df[class_label] != 0, class_label] = 1"
   ]
  },
  {
   "cell_type": "code",
   "execution_count": 9,
   "id": "673df18a",
   "metadata": {},
   "outputs": [],
   "source": [
    "df = remove_zero_variance(df, numeric_features)"
   ]
  },
  {
   "cell_type": "code",
   "execution_count": 10,
   "id": "cdbec570",
   "metadata": {},
   "outputs": [],
   "source": [
    "numeric_df = df.drop(categorical_features, axis=1)\n",
    "corr_matrix = numeric_df.corr(method='pearson')"
   ]
  },
  {
   "cell_type": "code",
   "execution_count": 11,
   "id": "040e6d04",
   "metadata": {},
   "outputs": [],
   "source": [
    "redundent_features = set()\n",
    "for i in range(len(corr_matrix.columns)):\n",
    "    for j in range(i):\n",
    "        if abs(corr_matrix.iloc[i, j]) > 0.8:\n",
    "            redundent_features.add(corr_matrix.columns[i])"
   ]
  },
  {
   "cell_type": "code",
   "execution_count": 13,
   "id": "adba022f",
   "metadata": {},
   "outputs": [
    {
     "data": {
      "image/png": "[encoded data removed]",
      "text/plain": [
       "<Figure size 749.52x524.88 with 2 Axes>"
      ]
     },
     "metadata": {
      "needs_background": "light"
     },
     "output_type": "display_data"
    }
   ],
   "source": [
    "plot_correlation(\n",
    "    corr_matrix,\n",
    "    'numeric-correlation.png',\n",
    "    save=False\n",
    "#     labels=numeric_df.columns.to_list()\n",
    ")"
   ]
  },
  {
   "cell_type": "code",
   "execution_count": 14,
   "id": "792a29ee",
   "metadata": {},
   "outputs": [],
   "source": [
    "df.drop(list(redundent_features), axis=True, inplace=True)\n",
    "df.to_csv(f'clean-{filename}', index=False)"
   ]
  },
  {
   "cell_type": "code",
   "execution_count": null,
   "id": "04a68d12",
   "metadata": {},
   "outputs": [],
   "source": []
  }
 ],
 "metadata": {
  "kernelspec": {
   "display_name": "Python 3 (ipykernel)",
   "language": "python",
   "name": "python3"
  },
  "language_info": {
   "codemirror_mode": {
    "name": "ipython",
    "version": 3
   },
   "file_extension": ".py",
   "mimetype": "text/x-python",
   "name": "python",
   "nbconvert_exporter": "python",
   "pygments_lexer": "ipython3",
   "version": "3.8.10"
  }
 },
 "nbformat": 4,
 "nbformat_minor": 5
}
