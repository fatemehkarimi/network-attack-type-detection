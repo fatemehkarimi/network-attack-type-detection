{
 "cells": [
  {
   "cell_type": "code",
   "execution_count": 1,
   "id": "66479cea",
   "metadata": {},
   "outputs": [],
   "source": [
    "import sys\n",
    "import argparse\n",
    "import configparser\n",
    "import numpy as np\n",
    "import pandas as pd\n",
    "import matplotlib.pyplot as plt\n",
    "from sklearn.cluster import KMeans\n",
    "from sklearn.decomposition import PCA\n",
    "from sklearn.preprocessing import StandardScaler\n",
    "from sklearn.feature_selection import VarianceThreshold\n",
    "from scipy.spatial.distance import cdist\n",
    "from metadata.const import features, dtypes, class_label"
   ]
  },
  {
   "cell_type": "code",
   "execution_count": 2,
   "id": "5a8c4d8b",
   "metadata": {},
   "outputs": [],
   "source": [
    "def get_config(section):\n",
    "    config = configparser.RawConfigParser()\n",
    "    config.read('../settings.ini')\n",
    "    return dict(config.items(section))"
   ]
  },
  {
   "cell_type": "code",
   "execution_count": 3,
   "id": "6e2a160e",
   "metadata": {},
   "outputs": [],
   "source": [
    "def get_box_whisker_range(df):\n",
    "    q1 = df.quantile(q=0.25)\n",
    "    q3 = df.quantile(q=0.75)\n",
    "    iqr = q3 - q1\n",
    "    min_range = q1 - 1.5 * iqr\n",
    "    max_range = q3 + 1.5 * iqr\n",
    "\n",
    "    return min_range, max_range"
   ]
  },
  {
   "cell_type": "code",
   "execution_count": 4,
   "id": "8bdfef2c",
   "metadata": {},
   "outputs": [],
   "source": [
    "def remove_zero_variance(df):\n",
    "    const_filter = VarianceThreshold()\n",
    "    const_filter.fit(df)\n",
    "    cols = const_filter.get_support(indices=True)\n",
    "    return df.iloc[:, cols]"
   ]
  },
  {
   "cell_type": "code",
   "execution_count": 5,
   "id": "be0cf38f",
   "metadata": {},
   "outputs": [],
   "source": [
    "def remove_category_single_value(df):\n",
    "    categorical_features = df.select_dtypes(include='category').columns.tolist()\n",
    "    must_remove = []\n",
    "    for f in categorical_features:\n",
    "        if len(df[f].unique()) == 1:\n",
    "            must_remove.append(f)\n",
    "    return df.drop(must_remove, axis=1)"
   ]
  },
  {
   "cell_type": "code",
   "execution_count": 6,
   "id": "56d66c58",
   "metadata": {},
   "outputs": [],
   "source": [
    "def plot_correlation(correlation, filename, save=True, labels=None):\n",
    "    fig = plt.figure(figsize=(10.41, 7.29))\n",
    "    ax = fig.add_subplot(111)\n",
    "    cax = ax.matshow(correlation, vmin=-1, vmax=1)\n",
    "    fig.colorbar(cax)\n",
    "    if labels:\n",
    "        ticks = np.arange(0, len(labels), 1)\n",
    "        ax.set_xticks(ticks)\n",
    "        ax.set_yticks(ticks)\n",
    "        ax.set_xticklabels(labels)\n",
    "        ax.set_yticklabels(labels)\n",
    "\n",
    "        plt.setp(ax.get_xticklabels(), rotation=45, ha=\"left\",\n",
    "                rotation_mode=\"anchor\")\n",
    "    if save:\n",
    "        plt.savefig(filename)\n",
    "    else:\n",
    "        plt.show()"
   ]
  },
  {
   "cell_type": "code",
   "execution_count": 7,
   "id": "29fbcc35",
   "metadata": {},
   "outputs": [],
   "source": [
    "filename = 'sample-200000.csv'\n",
    "df = pd.read_csv(f'../dataset/{filename}', dtype=dtypes, low_memory=True)\n",
    "df.drop(\n",
    "    [\n",
    "        features['unnamed0'],\n",
    "        features['flow_id'],\n",
    "        features['source_ip'],\n",
    "        features['source_port'],\n",
    "        features['destination_ip'],\n",
    "        features['destination_port'],\n",
    "        features['timestamp'],\n",
    "        features['similar_http'],\n",
    "    ],\n",
    "    axis=1,\n",
    "    inplace=True\n",
    ")"
   ]
  },
  {
   "cell_type": "code",
   "execution_count": 8,
   "id": "6dc045a5",
   "metadata": {},
   "outputs": [],
   "source": [
    "df.replace([np.inf, -np.inf], np.nan, inplace=True)\n",
    "df.dropna(axis=0, inplace=True)\n",
    "df.reset_index(drop=True, inplace=True)"
   ]
  },
  {
   "cell_type": "code",
   "execution_count": 9,
   "id": "8e8a3b42",
   "metadata": {},
   "outputs": [],
   "source": [
    "X = df.drop(class_label, axis=1)\n",
    "y = df[class_label]"
   ]
  },
  {
   "cell_type": "code",
   "execution_count": 10,
   "id": "673df18a",
   "metadata": {},
   "outputs": [
    {
     "name": "stdout",
     "output_type": "stream",
     "text": [
      "{' Fwd URG Flags', ' Bwd PSH Flags', ' PSH Flag Count', ' Fwd Avg Bulk Rate', 'Fwd Avg Bytes/Bulk', ' Bwd Avg Bytes/Bulk', 'Bwd Avg Bulk Rate', ' Fwd Avg Packets/Bulk', 'FIN Flag Count', ' Bwd URG Flags', ' Bwd Avg Packets/Bulk', ' ECE Flag Count'}\n"
     ]
    }
   ],
   "source": [
    "columns = set(X.columns)\n",
    "X = remove_zero_variance(X)\n",
    "print(columns - set(X.columns))"
   ]
  },
  {
   "cell_type": "code",
   "execution_count": 11,
   "id": "cdbec570",
   "metadata": {},
   "outputs": [],
   "source": [
    "numeric_X = X.select_dtypes(exclude='category')\n",
    "corr_matrix = numeric_X.corr(method='pearson')"
   ]
  },
  {
   "cell_type": "code",
   "execution_count": 12,
   "id": "040e6d04",
   "metadata": {},
   "outputs": [],
   "source": [
    "redundent_features = set()\n",
    "for i in range(len(corr_matrix.columns)):\n",
    "    for j in range(i):\n",
    "        if abs(corr_matrix.iloc[i, j]) > 0.8:\n",
    "            redundent_features.add(corr_matrix.columns[i])"
   ]
  },
  {
   "cell_type": "code",
   "execution_count": 13,
   "id": "adba022f",
   "metadata": {},
   "outputs": [
    {
     "data": {
      "image/png": "[encoded data removed]",
      "text/plain": [
       "<Figure size 749.52x524.88 with 2 Axes>"
      ]
     },
     "metadata": {
      "needs_background": "light"
     },
     "output_type": "display_data"
    }
   ],
   "source": [
    "plot_correlation(\n",
    "    corr_matrix,\n",
    "    'numeric-correlation.png',\n",
    "    save=False\n",
    "#     labels=numeric_X.columns.to_list()\n",
    ")"
   ]
  },
  {
   "cell_type": "code",
   "execution_count": 14,
   "id": "792a29ee",
   "metadata": {},
   "outputs": [
    {
     "name": "stdout",
     "output_type": "stream",
     "text": [
      "{' Avg Bwd Segment Size', 'Bwd IAT Total', ' Fwd Packet Length Mean', ' min_seg_size_forward', 'Subflow Fwd Packets', ' Fwd Header Length.1', ' Fwd IAT Std', ' Subflow Fwd Bytes', ' Idle Min', ' Bwd IAT Max', ' Fwd IAT Mean', ' act_data_pkt_fwd', ' Packet Length Mean', ' Active Max', ' Active Min', ' Total Backward Packets', ' Max Packet Length', ' Fwd IAT Max', ' Idle Max', ' Bwd Packet Length Mean', ' Total Length of Bwd Packets', 'Idle Mean', 'Fwd IAT Total', ' Average Packet Size', ' Subflow Bwd Packets', ' Avg Fwd Segment Size', ' Flow IAT Max', ' Flow IAT Std', ' Min Packet Length', ' Packet Length Std', ' Fwd IAT Min', ' Bwd IAT Std', ' Packet Length Variance', ' Subflow Bwd Bytes', ' Bwd Packet Length Std', 'Flow Bytes/s', 'Fwd Packets/s'}\n"
     ]
    }
   ],
   "source": [
    "print(redundent_features)\n",
    "X.drop(list(redundent_features), axis=1, inplace=True)"
   ]
  },
  {
   "cell_type": "code",
   "execution_count": 15,
   "id": "b7909a1a",
   "metadata": {},
   "outputs": [
    {
     "name": "stdout",
     "output_type": "stream",
     "text": [
      "(194324, 30)\n"
     ]
    }
   ],
   "source": [
    "scale = StandardScaler()\n",
    "X_norm = scale.fit_transform(X)\n",
    "print(X_norm.shape)"
   ]
  },
  {
   "cell_type": "code",
   "execution_count": 16,
   "id": "9137a528",
   "metadata": {},
   "outputs": [
    {
     "data": {
      "text/plain": [
       "[<matplotlib.lines.Line2D at 0x7fdc62697070>]"
      ]
     },
     "execution_count": 16,
     "metadata": {},
     "output_type": "execute_result"
    },
    {
     "data": {
      "image/png": "[encoded data removed]",
      "text/plain": [
       "<Figure size 432x288 with 1 Axes>"
      ]
     },
     "metadata": {
      "needs_background": "light"
     },
     "output_type": "display_data"
    }
   ],
   "source": [
    "cost = []\n",
    "for i in range(1, 10):\n",
    "    kmeans = KMeans(n_clusters=i)\n",
    "    kmeans.fit(X_norm)\n",
    "    cost.append(kmeans.inertia_)\n",
    "plt.plot(cost, 'bx-')"
   ]
  },
  {
   "cell_type": "code",
   "execution_count": 17,
   "id": "b974d94c",
   "metadata": {},
   "outputs": [],
   "source": [
    "kmeans = KMeans(n_clusters=8)\n",
    "kmeans.fit(X_norm)\n",
    "kmeans_labels = kmeans.labels_"
   ]
  },
  {
   "cell_type": "code",
   "execution_count": 18,
   "id": "54e857e1",
   "metadata": {},
   "outputs": [
    {
     "data": {
      "text/plain": [
       "(194324, 2)"
      ]
     },
     "execution_count": 18,
     "metadata": {},
     "output_type": "execute_result"
    }
   ],
   "source": [
    "pca = PCA(2)\n",
    "pca.fit(X_norm)\n",
    "X_PCA = pca.transform(X_norm)\n",
    "X_PCA.shape"
   ]
  },
  {
   "cell_type": "code",
   "execution_count": 19,
   "id": "feb2f985",
   "metadata": {},
   "outputs": [],
   "source": [
    "x_pca, y_pca = X_PCA[:, 0], X_PCA[:, 1]\n",
    "colors = {0: 'red',\n",
    "          1: 'blue',\n",
    "          2: 'green', \n",
    "          3: 'yellow',\n",
    "          4: 'orange',\n",
    "          5: 'purple',\n",
    "          6: 'pink',\n",
    "          7: 'gray',\n",
    "          8: 'brown'}\n",
    "pca_df = pd.DataFrame({'x': x_pca, 'y': y_pca, 'label': kmeans_labels})\n",
    "groups = pca_df.groupby('label')"
   ]
  },
  {
   "cell_type": "code",
   "execution_count": 20,
   "id": "20a278eb",
   "metadata": {},
   "outputs": [
    {
     "data": {
      "image/png": "[encoded data removed]",
      "text/plain": [
       "<Figure size 432x432 with 1 Axes>"
      ]
     },
     "metadata": {
      "needs_background": "light"
     },
     "output_type": "display_data"
    }
   ],
   "source": [
    "fig, ax = plt.subplots(figsize=(6, 6))\n",
    "for name, group in groups:\n",
    "    ax.plot(group.x, group.y, marker='o', linestyle='', ms=5,\n",
    "            color=colors[name], mec='none')\n",
    "    ax.set_aspect('auto')\n",
    "    ax.tick_params(axis='x',which='both',bottom='off',top='off',labelbottom='off')\n",
    "    ax.tick_params(axis= 'y',which='both',left='off',top='off',labelleft='off')\n",
    "centroids = kmeans.cluster_centers_\n",
    "plt.scatter(centroids[:, 0], centroids[:, 1], s=80, color='black')\n",
    "plt.show()"
   ]
  },
  {
   "cell_type": "code",
   "execution_count": 21,
   "id": "d67cff26",
   "metadata": {},
   "outputs": [
    {
     "data": {
      "image/png": "[encoded data removed]",
      "text/plain": [
       "<Figure size 432x288 with 1 Axes>"
      ]
     },
     "metadata": {
      "needs_background": "light"
     },
     "output_type": "display_data"
    },
    {
     "data": {
      "image/png": "[encoded data removed]",
      "text/plain": [
       "<Figure size 432x288 with 1 Axes>"
      ]
     },
     "metadata": {
      "needs_background": "light"
     },
     "output_type": "display_data"
    },
    {
     "data": {
      "image/png": "[encoded data removed]",
      "text/plain": [
       "<Figure size 432x288 with 1 Axes>"
      ]
     },
     "metadata": {
      "needs_background": "light"
     },
     "output_type": "display_data"
    },
    {
     "data": {
      "image/png": "[encoded data removed]",
      "text/plain": [
       "<Figure size 432x288 with 1 Axes>"
      ]
     },
     "metadata": {
      "needs_background": "light"
     },
     "output_type": "display_data"
    },
    {
     "data": {
      "image/png": "[encoded data removed]",
      "text/plain": [
       "<Figure size 432x288 with 1 Axes>"
      ]
     },
     "metadata": {
      "needs_background": "light"
     },
     "output_type": "display_data"
    },
    {
     "data": {
      "image/png": "[encoded data removed]",
      "text/plain": [
       "<Figure size 432x288 with 1 Axes>"
      ]
     },
     "metadata": {
      "needs_background": "light"
     },
     "output_type": "display_data"
    },
    {
     "data": {
      "image/png": "[encoded data removed]",
      "text/plain": [
       "<Figure size 432x288 with 1 Axes>"
      ]
     },
     "metadata": {
      "needs_background": "light"
     },
     "output_type": "display_data"
    },
    {
     "data": {
      "image/png": "[encoded data removed]",
      "text/plain": [
       "<Figure size 432x288 with 1 Axes>"
      ]
     },
     "metadata": {
      "needs_background": "light"
     },
     "output_type": "display_data"
    }
   ],
   "source": [
    "outliers = []\n",
    "for i, center in enumerate(centroids):\n",
    "    distances = cdist([center], X_norm[kmeans_labels == i], 'euclidean').ravel()\n",
    "    truthness = (kmeans_labels == i)\n",
    "    indices = []\n",
    "    for j in range(len(truthness)):\n",
    "        if truthness[j]:\n",
    "            indices.append(j)\n",
    "    min_range, max_range = get_box_whisker_range(pd.DataFrame({'distance': pd.Series(distances)}))\n",
    "    min_range = min_range['distance']\n",
    "    max_range = max_range['distance']\n",
    "    for i in range(len(indices)):\n",
    "        if distances[i] > max_range or distances[i] < min_range:\n",
    "            outliers.append(indices[i])\n",
    "    plt.boxplot(distances.tolist())\n",
    "    plt.show()"
   ]
  },
  {
   "cell_type": "code",
   "execution_count": 22,
   "id": "c1c3353c",
   "metadata": {},
   "outputs": [
    {
     "name": "stdout",
     "output_type": "stream",
     "text": [
      "24502\n"
     ]
    }
   ],
   "source": [
    "print(len(outliers))\n",
    "X.drop(outliers, axis=0, inplace=True)\n",
    "y.drop(outliers, axis=0, inplace=True)"
   ]
  },
  {
   "cell_type": "code",
   "execution_count": 23,
   "id": "73c625b5",
   "metadata": {},
   "outputs": [],
   "source": [
    "df = pd.concat([X, y], axis=1)"
   ]
  },
  {
   "cell_type": "code",
   "execution_count": 24,
   "id": "04a68d12",
   "metadata": {},
   "outputs": [],
   "source": [
    "df.to_csv(f'../dataset/clean-{filename}', index=False)"
   ]
  },
  {
   "cell_type": "code",
   "execution_count": null,
   "id": "e52ff86f",
   "metadata": {},
   "outputs": [],
   "source": []
  }
 ],
 "metadata": {
  "kernelspec": {
   "display_name": "Python 3 (ipykernel)",
   "language": "python",
   "name": "python3"
  },
  "language_info": {
   "codemirror_mode": {
    "name": "ipython",
    "version": 3
   },
   "file_extension": ".py",
   "mimetype": "text/x-python",
   "name": "python",
   "nbconvert_exporter": "python",
   "pygments_lexer": "ipython3",
   "version": "3.8.10"
  }
 },
 "nbformat": 4,
 "nbformat_minor": 5
}
