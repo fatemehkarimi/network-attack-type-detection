{
 "cells": [
  {
   "cell_type": "code",
   "execution_count": 1,
   "id": "66479cea",
   "metadata": {},
   "outputs": [],
   "source": [
    "import sys\n",
    "import argparse\n",
    "import configparser\n",
    "import numpy as np\n",
    "import pandas as pd\n",
    "import matplotlib.pyplot as plt\n",
    "from sklearn.cluster import KMeans\n",
    "from sklearn.decomposition import PCA\n",
    "from sklearn.preprocessing import StandardScaler, MinMaxScaler\n",
    "from sklearn.feature_selection import VarianceThreshold\n",
    "from scipy.spatial.distance import cdist\n",
    "from metadata.const import features, dtypes, class_label"
   ]
  },
  {
   "cell_type": "code",
   "execution_count": 2,
   "id": "5a8c4d8b",
   "metadata": {},
   "outputs": [],
   "source": [
    "def get_config(section):\n",
    "    config = configparser.RawConfigParser()\n",
    "    config.read('../settings.ini')\n",
    "    return dict(config.items(section))"
   ]
  },
  {
   "cell_type": "code",
   "execution_count": 3,
   "id": "6e2a160e",
   "metadata": {},
   "outputs": [],
   "source": [
    "def get_box_whisker_range(df):\n",
    "    q1 = df.quantile(q=0.25)\n",
    "    q3 = df.quantile(q=0.75)\n",
    "    iqr = q3 - q1\n",
    "    min_range = q1 - 1.5 * iqr\n",
    "    max_range = q3 + 1.5 * iqr\n",
    "\n",
    "    return min_range, max_range"
   ]
  },
  {
   "cell_type": "code",
   "execution_count": 4,
   "id": "8bdfef2c",
   "metadata": {},
   "outputs": [],
   "source": [
    "def remove_zero_variance(df):\n",
    "    const_filter = VarianceThreshold()\n",
    "    const_filter.fit(df)\n",
    "    cols = const_filter.get_support(indices=True)\n",
    "    return df.iloc[:, cols]"
   ]
  },
  {
   "cell_type": "code",
   "execution_count": 5,
   "id": "56d66c58",
   "metadata": {},
   "outputs": [],
   "source": [
    "def plot_correlation(correlation, filename, save=True, labels=None):\n",
    "    fig = plt.figure(figsize=(10.41, 7.29))\n",
    "    ax = fig.add_subplot(111)\n",
    "    cax = ax.matshow(correlation, vmin=-1, vmax=1)\n",
    "    fig.colorbar(cax)\n",
    "    if labels:\n",
    "        ticks = np.arange(0, len(labels), 1)\n",
    "        ax.set_xticks(ticks)\n",
    "        ax.set_yticks(ticks)\n",
    "        ax.set_xticklabels(labels)\n",
    "        ax.set_yticklabels(labels)\n",
    "\n",
    "        plt.setp(ax.get_xticklabels(), rotation=45, ha=\"left\",\n",
    "                rotation_mode=\"anchor\")\n",
    "    if save:\n",
    "        plt.savefig(filename)\n",
    "    else:\n",
    "        plt.show()"
   ]
  },
  {
   "cell_type": "code",
   "execution_count": 6,
   "id": "29fbcc35",
   "metadata": {},
   "outputs": [],
   "source": [
    "filename = 'sample-200000.csv'\n",
    "df = pd.read_csv(f'../dataset/{filename}', dtype=dtypes, low_memory=True)\n",
    "df.drop(\n",
    "    [\n",
    "        features['unnamed0'],\n",
    "        features['flow_id'],\n",
    "        features['source_ip'],\n",
    "        features['source_port'],\n",
    "        features['destination_ip'],\n",
    "        features['destination_port'],\n",
    "        features['timestamp'],\n",
    "        features['similar_http'],\n",
    "        features['protocol'],\n",
    "        features['inbound']\n",
    "    ],\n",
    "    axis=1,\n",
    "    inplace=True\n",
    ")"
   ]
  },
  {
   "cell_type": "code",
   "execution_count": 7,
   "id": "0741491f",
   "metadata": {},
   "outputs": [
    {
     "data": {
      "text/html": [
       "<div>\n",
       "<style scoped>\n",
       "    .dataframe tbody tr th:only-of-type {\n",
       "        vertical-align: middle;\n",
       "    }\n",
       "\n",
       "    .dataframe tbody tr th {\n",
       "        vertical-align: top;\n",
       "    }\n",
       "\n",
       "    .dataframe thead th {\n",
       "        text-align: right;\n",
       "    }\n",
       "</style>\n",
       "<table border=\"1\" class=\"dataframe\">\n",
       "  <thead>\n",
       "    <tr style=\"text-align: right;\">\n",
       "      <th></th>\n",
       "      <th>Flow Duration</th>\n",
       "      <th>Total Fwd Packets</th>\n",
       "      <th>Total Backward Packets</th>\n",
       "      <th>Total Length of Fwd Packets</th>\n",
       "      <th>Total Length of Bwd Packets</th>\n",
       "      <th>Fwd Packet Length Max</th>\n",
       "      <th>Fwd Packet Length Min</th>\n",
       "      <th>Fwd Packet Length Mean</th>\n",
       "      <th>Fwd Packet Length Std</th>\n",
       "      <th>Bwd Packet Length Max</th>\n",
       "      <th>...</th>\n",
       "      <th>act_data_pkt_fwd</th>\n",
       "      <th>min_seg_size_forward</th>\n",
       "      <th>Active Mean</th>\n",
       "      <th>Active Std</th>\n",
       "      <th>Active Max</th>\n",
       "      <th>Active Min</th>\n",
       "      <th>Idle Mean</th>\n",
       "      <th>Idle Std</th>\n",
       "      <th>Idle Max</th>\n",
       "      <th>Idle Min</th>\n",
       "    </tr>\n",
       "  </thead>\n",
       "  <tbody>\n",
       "    <tr>\n",
       "      <th>count</th>\n",
       "      <td>1.993560e+05</td>\n",
       "      <td>199356.000000</td>\n",
       "      <td>199356.000000</td>\n",
       "      <td>199356.000000</td>\n",
       "      <td>1.993560e+05</td>\n",
       "      <td>199356.000000</td>\n",
       "      <td>199356.000000</td>\n",
       "      <td>199356.000000</td>\n",
       "      <td>199356.000000</td>\n",
       "      <td>199356.000000</td>\n",
       "      <td>...</td>\n",
       "      <td>199356.000000</td>\n",
       "      <td>1.993560e+05</td>\n",
       "      <td>1.993560e+05</td>\n",
       "      <td>1.993560e+05</td>\n",
       "      <td>1.993560e+05</td>\n",
       "      <td>1.993560e+05</td>\n",
       "      <td>199356.0</td>\n",
       "      <td>1.993560e+05</td>\n",
       "      <td>1.993560e+05</td>\n",
       "      <td>1.993560e+05</td>\n",
       "    </tr>\n",
       "    <tr>\n",
       "      <th>mean</th>\n",
       "      <td>6.861276e+06</td>\n",
       "      <td>6.118502</td>\n",
       "      <td>5.226198</td>\n",
       "      <td>911.241089</td>\n",
       "      <td>4.031478e+03</td>\n",
       "      <td>292.215973</td>\n",
       "      <td>212.935425</td>\n",
       "      <td>229.106689</td>\n",
       "      <td>26.432558</td>\n",
       "      <td>156.694351</td>\n",
       "      <td>...</td>\n",
       "      <td>3.559617</td>\n",
       "      <td>1.341337e+08</td>\n",
       "      <td>5.384279e+04</td>\n",
       "      <td>2.435223e+04</td>\n",
       "      <td>8.642516e+04</td>\n",
       "      <td>3.904421e+04</td>\n",
       "      <td>2349879.5</td>\n",
       "      <td>2.082385e+05</td>\n",
       "      <td>2.546252e+06</td>\n",
       "      <td>2.169335e+06</td>\n",
       "    </tr>\n",
       "    <tr>\n",
       "      <th>std</th>\n",
       "      <td>2.476061e+07</td>\n",
       "      <td>70.325655</td>\n",
       "      <td>109.940438</td>\n",
       "      <td>2962.936035</td>\n",
       "      <td>1.979387e+05</td>\n",
       "      <td>437.729858</td>\n",
       "      <td>354.635590</td>\n",
       "      <td>352.126343</td>\n",
       "      <td>99.267014</td>\n",
       "      <td>553.208618</td>\n",
       "      <td>...</td>\n",
       "      <td>62.640881</td>\n",
       "      <td>6.972669e+08</td>\n",
       "      <td>4.506140e+05</td>\n",
       "      <td>2.249541e+05</td>\n",
       "      <td>6.185284e+05</td>\n",
       "      <td>4.085940e+05</td>\n",
       "      <td>9930718.0</td>\n",
       "      <td>1.919363e+06</td>\n",
       "      <td>1.054426e+07</td>\n",
       "      <td>9.605932e+06</td>\n",
       "    </tr>\n",
       "    <tr>\n",
       "      <th>min</th>\n",
       "      <td>0.000000e+00</td>\n",
       "      <td>1.000000</td>\n",
       "      <td>0.000000</td>\n",
       "      <td>0.000000</td>\n",
       "      <td>0.000000e+00</td>\n",
       "      <td>0.000000</td>\n",
       "      <td>0.000000</td>\n",
       "      <td>0.000000</td>\n",
       "      <td>0.000000</td>\n",
       "      <td>0.000000</td>\n",
       "      <td>...</td>\n",
       "      <td>0.000000</td>\n",
       "      <td>0.000000e+00</td>\n",
       "      <td>0.000000e+00</td>\n",
       "      <td>0.000000e+00</td>\n",
       "      <td>0.000000e+00</td>\n",
       "      <td>0.000000e+00</td>\n",
       "      <td>0.0</td>\n",
       "      <td>0.000000e+00</td>\n",
       "      <td>0.000000e+00</td>\n",
       "      <td>0.000000e+00</td>\n",
       "    </tr>\n",
       "    <tr>\n",
       "      <th>25%</th>\n",
       "      <td>1.000000e+00</td>\n",
       "      <td>2.000000</td>\n",
       "      <td>0.000000</td>\n",
       "      <td>12.000000</td>\n",
       "      <td>0.000000e+00</td>\n",
       "      <td>6.000000</td>\n",
       "      <td>6.000000</td>\n",
       "      <td>6.000000</td>\n",
       "      <td>0.000000</td>\n",
       "      <td>0.000000</td>\n",
       "      <td>...</td>\n",
       "      <td>1.000000</td>\n",
       "      <td>2.000000e+01</td>\n",
       "      <td>0.000000e+00</td>\n",
       "      <td>0.000000e+00</td>\n",
       "      <td>0.000000e+00</td>\n",
       "      <td>0.000000e+00</td>\n",
       "      <td>0.0</td>\n",
       "      <td>0.000000e+00</td>\n",
       "      <td>0.000000e+00</td>\n",
       "      <td>0.000000e+00</td>\n",
       "    </tr>\n",
       "    <tr>\n",
       "      <th>50%</th>\n",
       "      <td>5.200000e+01</td>\n",
       "      <td>2.000000</td>\n",
       "      <td>0.000000</td>\n",
       "      <td>123.000000</td>\n",
       "      <td>0.000000e+00</td>\n",
       "      <td>46.000000</td>\n",
       "      <td>31.000000</td>\n",
       "      <td>43.000000</td>\n",
       "      <td>0.000000</td>\n",
       "      <td>0.000000</td>\n",
       "      <td>...</td>\n",
       "      <td>1.000000</td>\n",
       "      <td>2.000000e+01</td>\n",
       "      <td>0.000000e+00</td>\n",
       "      <td>0.000000e+00</td>\n",
       "      <td>0.000000e+00</td>\n",
       "      <td>0.000000e+00</td>\n",
       "      <td>0.0</td>\n",
       "      <td>0.000000e+00</td>\n",
       "      <td>0.000000e+00</td>\n",
       "      <td>0.000000e+00</td>\n",
       "    </tr>\n",
       "    <tr>\n",
       "      <th>75%</th>\n",
       "      <td>4.469050e+04</td>\n",
       "      <td>2.000000</td>\n",
       "      <td>2.000000</td>\n",
       "      <td>956.000000</td>\n",
       "      <td>1.800000e+01</td>\n",
       "      <td>419.000000</td>\n",
       "      <td>330.000000</td>\n",
       "      <td>359.500000</td>\n",
       "      <td>0.000000</td>\n",
       "      <td>6.000000</td>\n",
       "      <td>...</td>\n",
       "      <td>1.000000</td>\n",
       "      <td>3.200000e+01</td>\n",
       "      <td>0.000000e+00</td>\n",
       "      <td>0.000000e+00</td>\n",
       "      <td>0.000000e+00</td>\n",
       "      <td>0.000000e+00</td>\n",
       "      <td>0.0</td>\n",
       "      <td>0.000000e+00</td>\n",
       "      <td>0.000000e+00</td>\n",
       "      <td>0.000000e+00</td>\n",
       "    </tr>\n",
       "    <tr>\n",
       "      <th>max</th>\n",
       "      <td>1.199975e+08</td>\n",
       "      <td>20444.000000</td>\n",
       "      <td>31700.000000</td>\n",
       "      <td>208524.000000</td>\n",
       "      <td>5.842950e+07</td>\n",
       "      <td>3620.000000</td>\n",
       "      <td>2131.000000</td>\n",
       "      <td>2131.000000</td>\n",
       "      <td>1448.583008</td>\n",
       "      <td>3627.000000</td>\n",
       "      <td>...</td>\n",
       "      <td>18766.000000</td>\n",
       "      <td>4.294967e+09</td>\n",
       "      <td>4.050800e+07</td>\n",
       "      <td>1.063756e+07</td>\n",
       "      <td>4.050800e+07</td>\n",
       "      <td>4.050800e+07</td>\n",
       "      <td>117569200.0</td>\n",
       "      <td>6.961402e+07</td>\n",
       "      <td>1.175692e+08</td>\n",
       "      <td>1.175692e+08</td>\n",
       "    </tr>\n",
       "  </tbody>\n",
       "</table>\n",
       "<p>8 rows × 77 columns</p>\n",
       "</div>"
      ],
      "text/plain": [
       "        Flow Duration   Total Fwd Packets   Total Backward Packets  \\\n",
       "count    1.993560e+05       199356.000000            199356.000000   \n",
       "mean     6.861276e+06            6.118502                 5.226198   \n",
       "std      2.476061e+07           70.325655               109.940438   \n",
       "min      0.000000e+00            1.000000                 0.000000   \n",
       "25%      1.000000e+00            2.000000                 0.000000   \n",
       "50%      5.200000e+01            2.000000                 0.000000   \n",
       "75%      4.469050e+04            2.000000                 2.000000   \n",
       "max      1.199975e+08        20444.000000             31700.000000   \n",
       "\n",
       "       Total Length of Fwd Packets   Total Length of Bwd Packets  \\\n",
       "count                199356.000000                  1.993560e+05   \n",
       "mean                    911.241089                  4.031478e+03   \n",
       "std                    2962.936035                  1.979387e+05   \n",
       "min                       0.000000                  0.000000e+00   \n",
       "25%                      12.000000                  0.000000e+00   \n",
       "50%                     123.000000                  0.000000e+00   \n",
       "75%                     956.000000                  1.800000e+01   \n",
       "max                  208524.000000                  5.842950e+07   \n",
       "\n",
       "        Fwd Packet Length Max   Fwd Packet Length Min  \\\n",
       "count           199356.000000           199356.000000   \n",
       "mean               292.215973              212.935425   \n",
       "std                437.729858              354.635590   \n",
       "min                  0.000000                0.000000   \n",
       "25%                  6.000000                6.000000   \n",
       "50%                 46.000000               31.000000   \n",
       "75%                419.000000              330.000000   \n",
       "max               3620.000000             2131.000000   \n",
       "\n",
       "        Fwd Packet Length Mean   Fwd Packet Length Std  Bwd Packet Length Max  \\\n",
       "count            199356.000000           199356.000000          199356.000000   \n",
       "mean                229.106689               26.432558             156.694351   \n",
       "std                 352.126343               99.267014             553.208618   \n",
       "min                   0.000000                0.000000               0.000000   \n",
       "25%                   6.000000                0.000000               0.000000   \n",
       "50%                  43.000000                0.000000               0.000000   \n",
       "75%                 359.500000                0.000000               6.000000   \n",
       "max                2131.000000             1448.583008            3627.000000   \n",
       "\n",
       "       ...   act_data_pkt_fwd   min_seg_size_forward   Active Mean  \\\n",
       "count  ...      199356.000000           1.993560e+05  1.993560e+05   \n",
       "mean   ...           3.559617           1.341337e+08  5.384279e+04   \n",
       "std    ...          62.640881           6.972669e+08  4.506140e+05   \n",
       "min    ...           0.000000           0.000000e+00  0.000000e+00   \n",
       "25%    ...           1.000000           2.000000e+01  0.000000e+00   \n",
       "50%    ...           1.000000           2.000000e+01  0.000000e+00   \n",
       "75%    ...           1.000000           3.200000e+01  0.000000e+00   \n",
       "max    ...       18766.000000           4.294967e+09  4.050800e+07   \n",
       "\n",
       "         Active Std    Active Max    Active Min    Idle Mean      Idle Std  \\\n",
       "count  1.993560e+05  1.993560e+05  1.993560e+05     199356.0  1.993560e+05   \n",
       "mean   2.435223e+04  8.642516e+04  3.904421e+04    2349879.5  2.082385e+05   \n",
       "std    2.249541e+05  6.185284e+05  4.085940e+05    9930718.0  1.919363e+06   \n",
       "min    0.000000e+00  0.000000e+00  0.000000e+00          0.0  0.000000e+00   \n",
       "25%    0.000000e+00  0.000000e+00  0.000000e+00          0.0  0.000000e+00   \n",
       "50%    0.000000e+00  0.000000e+00  0.000000e+00          0.0  0.000000e+00   \n",
       "75%    0.000000e+00  0.000000e+00  0.000000e+00          0.0  0.000000e+00   \n",
       "max    1.063756e+07  4.050800e+07  4.050800e+07  117569200.0  6.961402e+07   \n",
       "\n",
       "           Idle Max      Idle Min  \n",
       "count  1.993560e+05  1.993560e+05  \n",
       "mean   2.546252e+06  2.169335e+06  \n",
       "std    1.054426e+07  9.605932e+06  \n",
       "min    0.000000e+00  0.000000e+00  \n",
       "25%    0.000000e+00  0.000000e+00  \n",
       "50%    0.000000e+00  0.000000e+00  \n",
       "75%    0.000000e+00  0.000000e+00  \n",
       "max    1.175692e+08  1.175692e+08  \n",
       "\n",
       "[8 rows x 77 columns]"
      ]
     },
     "execution_count": 7,
     "metadata": {},
     "output_type": "execute_result"
    }
   ],
   "source": [
    "df.describe()"
   ]
  },
  {
   "cell_type": "code",
   "execution_count": 8,
   "id": "4d45b524",
   "metadata": {},
   "outputs": [],
   "source": [
    "for col in df.select_dtypes(exclude='category').columns.tolist():\n",
    "    df.loc[df[col] < 0, col] = np.nan"
   ]
  },
  {
   "cell_type": "code",
   "execution_count": 9,
   "id": "25ccd834",
   "metadata": {},
   "outputs": [],
   "source": [
    "df.replace([np.inf, -np.inf], np.nan, inplace=True)"
   ]
  },
  {
   "cell_type": "code",
   "execution_count": 10,
   "id": "eac62992",
   "metadata": {},
   "outputs": [
    {
     "name": "stdout",
     "output_type": "stream",
     "text": [
      " Flow Packets/s         5030\n",
      "Flow Bytes/s            5030\n",
      " Flow Duration             0\n",
      " Average Packet Size       0\n",
      " Fwd Avg Bulk Rate         0\n",
      "                        ... \n",
      " Bwd IAT Std               0\n",
      " Bwd IAT Mean              0\n",
      "Bwd IAT Total              0\n",
      " Fwd IAT Min               0\n",
      " Label                     0\n",
      "Length: 78, dtype: int64\n"
     ]
    }
   ],
   "source": [
    "print(df.isna().sum().sort_values(ascending=False))\n",
    "df = df.drop([features['flow_packets_s'], features['flow_bytes_s']], axis=1)"
   ]
  },
  {
   "cell_type": "code",
   "execution_count": 11,
   "id": "6dc045a5",
   "metadata": {},
   "outputs": [],
   "source": [
    "df.dropna(axis=0, inplace=True)\n",
    "df.reset_index(drop=True, inplace=True)"
   ]
  },
  {
   "cell_type": "code",
   "execution_count": 12,
   "id": "38b11d58",
   "metadata": {},
   "outputs": [],
   "source": [
    "X = df.drop(class_label, axis=1)\n",
    "y = df[class_label]"
   ]
  },
  {
   "cell_type": "code",
   "execution_count": 13,
   "id": "673df18a",
   "metadata": {},
   "outputs": [
    {
     "name": "stdout",
     "output_type": "stream",
     "text": [
      "{' Fwd Avg Bulk Rate', ' Fwd URG Flags', ' Bwd Avg Bytes/Bulk', 'Bwd Avg Bulk Rate', ' PSH Flag Count', ' Bwd PSH Flags', ' Bwd URG Flags', 'Fwd Avg Bytes/Bulk', ' ECE Flag Count', ' Bwd Avg Packets/Bulk', ' Fwd Avg Packets/Bulk', 'FIN Flag Count'}\n"
     ]
    }
   ],
   "source": [
    "columns = set(X.columns)\n",
    "X = remove_zero_variance(X)\n",
    "print(columns - set(X.columns))"
   ]
  },
  {
   "cell_type": "code",
   "execution_count": 14,
   "id": "cdbec570",
   "metadata": {},
   "outputs": [],
   "source": [
    "numeric_X = X.select_dtypes(exclude='category')\n",
    "corr_matrix = numeric_X.corr(method='pearson')"
   ]
  },
  {
   "cell_type": "code",
   "execution_count": 15,
   "id": "040e6d04",
   "metadata": {},
   "outputs": [],
   "source": [
    "redundent_features = set()\n",
    "for i in range(len(corr_matrix.columns)):\n",
    "    for j in range(i):\n",
    "        if abs(corr_matrix.iloc[i, j]) > 0.8:\n",
    "            redundent_features.add(corr_matrix.columns[i])"
   ]
  },
  {
   "cell_type": "code",
   "execution_count": 16,
   "id": "adba022f",
   "metadata": {},
   "outputs": [
    {
     "data": {
      "image/png": "[encoded data removed]",
      "text/plain": [
       "<Figure size 749.52x524.88 with 2 Axes>"
      ]
     },
     "metadata": {
      "needs_background": "light"
     },
     "output_type": "display_data"
    }
   ],
   "source": [
    "plot_correlation(\n",
    "    corr_matrix,\n",
    "    'numeric-correlation.png',\n",
    "    save=False\n",
    "#     labels=numeric_X.columns.to_list()\n",
    ")"
   ]
  },
  {
   "cell_type": "code",
   "execution_count": 17,
   "id": "792a29ee",
   "metadata": {},
   "outputs": [
    {
     "name": "stdout",
     "output_type": "stream",
     "text": [
      "{'Subflow Fwd Packets', ' RST Flag Count', ' Idle Max', ' Max Packet Length', ' Flow IAT Std', ' Fwd IAT Std', ' Total Length of Bwd Packets', ' Packet Length Std', ' Fwd IAT Mean', ' Bwd IAT Std', ' Packet Length Variance', ' Fwd Header Length.1', ' Bwd Packet Length Mean', ' Bwd Packet Length Std', 'Fwd IAT Total', 'Idle Mean', ' min_seg_size_forward', ' Packet Length Mean', ' act_data_pkt_fwd', ' Subflow Bwd Packets', 'Bwd IAT Total', ' Active Min', ' Fwd IAT Min', ' Subflow Fwd Bytes', ' Fwd Packet Length Mean', ' Total Backward Packets', ' Subflow Bwd Bytes', ' Fwd IAT Max', ' Flow IAT Max', ' Avg Fwd Segment Size', ' Avg Bwd Segment Size', ' Min Packet Length', ' Active Max', ' Average Packet Size', ' Idle Min', ' Bwd IAT Max'}\n"
     ]
    }
   ],
   "source": [
    "print(redundent_features)\n",
    "X.drop(list(redundent_features), axis=1, inplace=True)"
   ]
  },
  {
   "cell_type": "code",
   "execution_count": 18,
   "id": "b7909a1a",
   "metadata": {},
   "outputs": [
    {
     "name": "stdout",
     "output_type": "stream",
     "text": [
      "(199356, 27)\n"
     ]
    }
   ],
   "source": [
    "scale = StandardScaler()\n",
    "X_norm = scale.fit_transform(X)\n",
    "print(X_norm.shape)"
   ]
  },
  {
   "cell_type": "code",
   "execution_count": 19,
   "id": "9137a528",
   "metadata": {},
   "outputs": [
    {
     "data": {
      "text/plain": [
       "[<matplotlib.lines.Line2D at 0x7fd51109f2e0>]"
      ]
     },
     "execution_count": 19,
     "metadata": {},
     "output_type": "execute_result"
    },
    {
     "data": {
      "image/png": "[encoded data removed]",
      "text/plain": [
       "<Figure size 432x288 with 1 Axes>"
      ]
     },
     "metadata": {
      "needs_background": "light"
     },
     "output_type": "display_data"
    }
   ],
   "source": [
    "cost = []\n",
    "for i in range(1, 10):\n",
    "    kmeans = KMeans(n_clusters=i)\n",
    "    kmeans.fit(X_norm)\n",
    "    cost.append(kmeans.inertia_)\n",
    "plt.plot(cost, 'bx-')"
   ]
  },
  {
   "cell_type": "code",
   "execution_count": 20,
   "id": "b974d94c",
   "metadata": {},
   "outputs": [],
   "source": [
    "kmeans = KMeans(n_clusters=8)\n",
    "kmeans.fit(X_norm)\n",
    "kmeans_labels = kmeans.labels_"
   ]
  },
  {
   "cell_type": "code",
   "execution_count": 21,
   "id": "54e857e1",
   "metadata": {},
   "outputs": [
    {
     "data": {
      "text/plain": [
       "(199356, 2)"
      ]
     },
     "execution_count": 21,
     "metadata": {},
     "output_type": "execute_result"
    }
   ],
   "source": [
    "pca = PCA(2)\n",
    "pca.fit(X_norm)\n",
    "X_PCA = pca.transform(X_norm)\n",
    "X_PCA.shape"
   ]
  },
  {
   "cell_type": "code",
   "execution_count": 22,
   "id": "feb2f985",
   "metadata": {},
   "outputs": [],
   "source": [
    "x_pca, y_pca = X_PCA[:, 0], X_PCA[:, 1]\n",
    "colors = {0: 'red',\n",
    "          1: 'blue',\n",
    "          2: 'green', \n",
    "          3: 'yellow',\n",
    "          4: 'orange',\n",
    "          5: 'purple',\n",
    "          6: 'pink',\n",
    "          7: 'gray',\n",
    "          8: 'brown'}\n",
    "pca_df = pd.DataFrame({'x': x_pca, 'y': y_pca, 'label': kmeans_labels})\n",
    "groups = pca_df.groupby('label')"
   ]
  },
  {
   "cell_type": "code",
   "execution_count": 23,
   "id": "20a278eb",
   "metadata": {},
   "outputs": [
    {
     "data": {
      "image/png": "[encoded data removed]",
      "text/plain": [
       "<Figure size 432x432 with 1 Axes>"
      ]
     },
     "metadata": {
      "needs_background": "light"
     },
     "output_type": "display_data"
    }
   ],
   "source": [
    "fig, ax = plt.subplots(figsize=(6, 6))\n",
    "for name, group in groups:\n",
    "    ax.plot(group.x, group.y, marker='o', linestyle='', ms=5,\n",
    "            color=colors[name], mec='none')\n",
    "    ax.set_aspect('auto')\n",
    "    ax.tick_params(axis='x',which='both',bottom='off',top='off',labelbottom='off')\n",
    "    ax.tick_params(axis= 'y',which='both',left='off',top='off',labelleft='off')\n",
    "centroids = kmeans.cluster_centers_\n",
    "plt.scatter(centroids[:, 0], centroids[:, 1], s=80, color='black')\n",
    "plt.show()"
   ]
  },
  {
   "cell_type": "code",
   "execution_count": 24,
   "id": "d67cff26",
   "metadata": {},
   "outputs": [
    {
     "data": {
      "image/png": "[encoded data removed]",
      "text/plain": [
       "<Figure size 432x288 with 1 Axes>"
      ]
     },
     "metadata": {
      "needs_background": "light"
     },
     "output_type": "display_data"
    },
    {
     "data": {
      "image/png": "[encoded data removed]",
      "text/plain": [
       "<Figure size 432x288 with 1 Axes>"
      ]
     },
     "metadata": {
      "needs_background": "light"
     },
     "output_type": "display_data"
    },
    {
     "data": {
      "image/png": "[encoded data removed]",
      "text/plain": [
       "<Figure size 432x288 with 1 Axes>"
      ]
     },
     "metadata": {
      "needs_background": "light"
     },
     "output_type": "display_data"
    },
    {
     "data": {
      "image/png": "[encoded data removed]",
      "text/plain": [
       "<Figure size 432x288 with 1 Axes>"
      ]
     },
     "metadata": {
      "needs_background": "light"
     },
     "output_type": "display_data"
    },
    {
     "data": {
      "image/png": "[encoded data removed]",
      "text/plain": [
       "<Figure size 432x288 with 1 Axes>"
      ]
     },
     "metadata": {
      "needs_background": "light"
     },
     "output_type": "display_data"
    },
    {
     "data": {
      "image/png": "[encoded data removed]",
      "text/plain": [
       "<Figure size 432x288 with 1 Axes>"
      ]
     },
     "metadata": {
      "needs_background": "light"
     },
     "output_type": "display_data"
    },
    {
     "data": {
      "image/png": "[encoded data removed]",
      "text/plain": [
       "<Figure size 432x288 with 1 Axes>"
      ]
     },
     "metadata": {
      "needs_background": "light"
     },
     "output_type": "display_data"
    },
    {
     "data": {
      "image/png": "[encoded data removed]",
      "text/plain": [
       "<Figure size 432x288 with 1 Axes>"
      ]
     },
     "metadata": {
      "needs_background": "light"
     },
     "output_type": "display_data"
    }
   ],
   "source": [
    "outliers = []\n",
    "for i, center in enumerate(centroids):\n",
    "    distances = cdist([center], X_norm[kmeans_labels == i], 'euclidean').ravel()\n",
    "    truthness = (kmeans_labels == i)\n",
    "    indices = []\n",
    "    for j in range(len(truthness)):\n",
    "        if truthness[j]:\n",
    "            indices.append(j)\n",
    "    min_range, max_range = get_box_whisker_range(pd.DataFrame({'distance': pd.Series(distances)}))\n",
    "    min_range = min_range['distance']\n",
    "    max_range = max_range['distance']\n",
    "    for i in range(len(indices)):\n",
    "        if distances[i] > max_range or distances[i] < min_range:\n",
    "            outliers.append(indices[i])\n",
    "    plt.boxplot(distances.tolist())\n",
    "    plt.show()"
   ]
  },
  {
   "cell_type": "code",
   "execution_count": 25,
   "id": "c1c3353c",
   "metadata": {},
   "outputs": [
    {
     "name": "stdout",
     "output_type": "stream",
     "text": [
      "26899\n"
     ]
    }
   ],
   "source": [
    "print(len(outliers))\n",
    "X.drop(outliers, axis=0, inplace=True)\n",
    "y.drop(outliers, axis=0, inplace=True)"
   ]
  },
  {
   "cell_type": "code",
   "execution_count": 26,
   "id": "78687121",
   "metadata": {},
   "outputs": [],
   "source": [
    "df = pd.concat([X, y], axis=1)"
   ]
  },
  {
   "cell_type": "code",
   "execution_count": 27,
   "id": "04a68d12",
   "metadata": {},
   "outputs": [],
   "source": [
    "df.to_csv(f'../dataset/clean-{filename}', index=False)"
   ]
  },
  {
   "cell_type": "code",
   "execution_count": null,
   "id": "d67ca878",
   "metadata": {},
   "outputs": [],
   "source": []
  }
 ],
 "metadata": {
  "kernelspec": {
   "display_name": "Python 3 (ipykernel)",
   "language": "python",
   "name": "python3"
  },
  "language_info": {
   "codemirror_mode": {
    "name": "ipython",
    "version": 3
   },
   "file_extension": ".py",
   "mimetype": "text/x-python",
   "name": "python",
   "nbconvert_exporter": "python",
   "pygments_lexer": "ipython3",
   "version": "3.8.10"
  }
 },
 "nbformat": 4,
 "nbformat_minor": 5
}
