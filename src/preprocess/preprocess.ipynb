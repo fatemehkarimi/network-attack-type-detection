{
 "cells": [
  {
   "cell_type": "code",
   "execution_count": 1,
   "id": "66479cea",
   "metadata": {},
   "outputs": [],
   "source": [
    "import sys\n",
    "import argparse\n",
    "import configparser\n",
    "import numpy as np\n",
    "import pandas as pd\n",
    "import matplotlib.pyplot as plt\n",
    "from sklearn.cluster import KMeans\n",
    "from sklearn.decomposition import PCA\n",
    "from sklearn.preprocessing import StandardScaler, MinMaxScaler\n",
    "from sklearn.feature_selection import VarianceThreshold\n",
    "from scipy.spatial.distance import cdist\n",
    "from metadata.const import features, dtypes, class_label"
   ]
  },
  {
   "cell_type": "code",
   "execution_count": 2,
   "id": "5a8c4d8b",
   "metadata": {},
   "outputs": [],
   "source": [
    "def get_config(section):\n",
    "    config = configparser.RawConfigParser()\n",
    "    config.read('../settings.ini')\n",
    "    return dict(config.items(section))"
   ]
  },
  {
   "cell_type": "code",
   "execution_count": 3,
   "id": "6e2a160e",
   "metadata": {},
   "outputs": [],
   "source": [
    "def get_box_whisker_range(df):\n",
    "    q1 = df.quantile(q=0.25)\n",
    "    q3 = df.quantile(q=0.75)\n",
    "    iqr = q3 - q1\n",
    "    min_range = q1 - 1.5 * iqr\n",
    "    max_range = q3 + 1.5 * iqr\n",
    "\n",
    "    return min_range, max_range"
   ]
  },
  {
   "cell_type": "code",
   "execution_count": 4,
   "id": "8bdfef2c",
   "metadata": {},
   "outputs": [],
   "source": [
    "def remove_zero_variance(df):\n",
    "    const_filter = VarianceThreshold()\n",
    "    const_filter.fit(df)\n",
    "    cols = const_filter.get_support(indices=True)\n",
    "    return df.iloc[:, cols]"
   ]
  },
  {
   "cell_type": "code",
   "execution_count": 5,
   "id": "56d66c58",
   "metadata": {},
   "outputs": [],
   "source": [
    "def plot_correlation(correlation, filename, save=True, labels=None):\n",
    "    fig = plt.figure(figsize=(10.41, 7.29))\n",
    "    ax = fig.add_subplot(111)\n",
    "    cax = ax.matshow(correlation, vmin=-1, vmax=1)\n",
    "    fig.colorbar(cax)\n",
    "    if labels:\n",
    "        ticks = np.arange(0, len(labels), 1)\n",
    "        ax.set_xticks(ticks)\n",
    "        ax.set_yticks(ticks)\n",
    "        ax.set_xticklabels(labels)\n",
    "        ax.set_yticklabels(labels)\n",
    "\n",
    "        plt.setp(ax.get_xticklabels(), rotation=45, ha=\"left\",\n",
    "                rotation_mode=\"anchor\")\n",
    "    if save:\n",
    "        plt.savefig(filename)\n",
    "    else:\n",
    "        plt.show()"
   ]
  },
  {
   "cell_type": "code",
   "execution_count": 6,
   "id": "29fbcc35",
   "metadata": {},
   "outputs": [],
   "source": [
    "filename = 'niloo-dataset.csv'\n",
    "df = pd.read_csv(f'../dataset/{filename}', dtype=dtypes, low_memory=True)\n",
    "df.drop(\n",
    "    [\n",
    "        features['unnamed0'],\n",
    "        features['flow_id'],\n",
    "        features['source_ip'],\n",
    "        features['source_port'],\n",
    "        features['destination_ip'],\n",
    "        features['destination_port'],\n",
    "        features['timestamp'],\n",
    "#         features['similar_http'],\n",
    "        features['protocol'],\n",
    "        features['inbound']\n",
    "    ],\n",
    "    axis=1,\n",
    "    inplace=True\n",
    ")"
   ]
  },
  {
   "cell_type": "code",
   "execution_count": 7,
   "id": "0741491f",
   "metadata": {},
   "outputs": [
    {
     "data": {
      "text/html": [
       "<div>\n",
       "<style scoped>\n",
       "    .dataframe tbody tr th:only-of-type {\n",
       "        vertical-align: middle;\n",
       "    }\n",
       "\n",
       "    .dataframe tbody tr th {\n",
       "        vertical-align: top;\n",
       "    }\n",
       "\n",
       "    .dataframe thead th {\n",
       "        text-align: right;\n",
       "    }\n",
       "</style>\n",
       "<table border=\"1\" class=\"dataframe\">\n",
       "  <thead>\n",
       "    <tr style=\"text-align: right;\">\n",
       "      <th></th>\n",
       "      <th>Flow Duration</th>\n",
       "      <th>Total Fwd Packets</th>\n",
       "      <th>Total Backward Packets</th>\n",
       "      <th>Total Length of Fwd Packets</th>\n",
       "      <th>Total Length of Bwd Packets</th>\n",
       "      <th>Fwd Packet Length Max</th>\n",
       "      <th>Fwd Packet Length Min</th>\n",
       "      <th>Fwd Packet Length Mean</th>\n",
       "      <th>Fwd Packet Length Std</th>\n",
       "      <th>Bwd Packet Length Max</th>\n",
       "      <th>...</th>\n",
       "      <th>min_seg_size_forward</th>\n",
       "      <th>Active Mean</th>\n",
       "      <th>Active Std</th>\n",
       "      <th>Active Max</th>\n",
       "      <th>Active Min</th>\n",
       "      <th>Idle Mean</th>\n",
       "      <th>Idle Std</th>\n",
       "      <th>Idle Max</th>\n",
       "      <th>Idle Min</th>\n",
       "      <th>Label</th>\n",
       "    </tr>\n",
       "  </thead>\n",
       "  <tbody>\n",
       "    <tr>\n",
       "      <th>count</th>\n",
       "      <td>1.960500e+04</td>\n",
       "      <td>19605.000000</td>\n",
       "      <td>19605.000000</td>\n",
       "      <td>19605.000000</td>\n",
       "      <td>1.960500e+04</td>\n",
       "      <td>19605.000000</td>\n",
       "      <td>19605.000000</td>\n",
       "      <td>19605.000000</td>\n",
       "      <td>19605.000000</td>\n",
       "      <td>19605.000000</td>\n",
       "      <td>...</td>\n",
       "      <td>1.960500e+04</td>\n",
       "      <td>1.960500e+04</td>\n",
       "      <td>1.960500e+04</td>\n",
       "      <td>1.960500e+04</td>\n",
       "      <td>1.960500e+04</td>\n",
       "      <td>1.960500e+04</td>\n",
       "      <td>1.960500e+04</td>\n",
       "      <td>1.960500e+04</td>\n",
       "      <td>19605.0</td>\n",
       "      <td>19605.000000</td>\n",
       "    </tr>\n",
       "    <tr>\n",
       "      <th>mean</th>\n",
       "      <td>6.239214e+06</td>\n",
       "      <td>5.774598</td>\n",
       "      <td>4.823412</td>\n",
       "      <td>928.839783</td>\n",
       "      <td>3.659619e+03</td>\n",
       "      <td>290.428558</td>\n",
       "      <td>215.282639</td>\n",
       "      <td>230.695847</td>\n",
       "      <td>24.508892</td>\n",
       "      <td>146.655548</td>\n",
       "      <td>...</td>\n",
       "      <td>1.361622e+08</td>\n",
       "      <td>5.168891e+04</td>\n",
       "      <td>2.289987e+04</td>\n",
       "      <td>7.921046e+04</td>\n",
       "      <td>3.744815e+04</td>\n",
       "      <td>2.357688e+06</td>\n",
       "      <td>2.343408e+05</td>\n",
       "      <td>2.580800e+06</td>\n",
       "      <td>2157393.5</td>\n",
       "      <td>0.497169</td>\n",
       "    </tr>\n",
       "    <tr>\n",
       "      <th>std</th>\n",
       "      <td>2.348872e+07</td>\n",
       "      <td>25.516342</td>\n",
       "      <td>41.273931</td>\n",
       "      <td>3012.684814</td>\n",
       "      <td>6.642376e+04</td>\n",
       "      <td>443.534821</td>\n",
       "      <td>355.898376</td>\n",
       "      <td>353.969208</td>\n",
       "      <td>98.042755</td>\n",
       "      <td>538.466919</td>\n",
       "      <td>...</td>\n",
       "      <td>7.041754e+08</td>\n",
       "      <td>4.170448e+05</td>\n",
       "      <td>2.229945e+05</td>\n",
       "      <td>5.845965e+05</td>\n",
       "      <td>3.825086e+05</td>\n",
       "      <td>1.014565e+07</td>\n",
       "      <td>2.068752e+06</td>\n",
       "      <td>1.083784e+07</td>\n",
       "      <td>9788354.0</td>\n",
       "      <td>0.500005</td>\n",
       "    </tr>\n",
       "    <tr>\n",
       "      <th>min</th>\n",
       "      <td>1.000000e+00</td>\n",
       "      <td>1.000000</td>\n",
       "      <td>0.000000</td>\n",
       "      <td>0.000000</td>\n",
       "      <td>0.000000e+00</td>\n",
       "      <td>0.000000</td>\n",
       "      <td>0.000000</td>\n",
       "      <td>0.000000</td>\n",
       "      <td>0.000000</td>\n",
       "      <td>0.000000</td>\n",
       "      <td>...</td>\n",
       "      <td>0.000000e+00</td>\n",
       "      <td>0.000000e+00</td>\n",
       "      <td>0.000000e+00</td>\n",
       "      <td>0.000000e+00</td>\n",
       "      <td>0.000000e+00</td>\n",
       "      <td>0.000000e+00</td>\n",
       "      <td>0.000000e+00</td>\n",
       "      <td>0.000000e+00</td>\n",
       "      <td>0.0</td>\n",
       "      <td>0.000000</td>\n",
       "    </tr>\n",
       "    <tr>\n",
       "      <th>25%</th>\n",
       "      <td>1.000000e+00</td>\n",
       "      <td>2.000000</td>\n",
       "      <td>0.000000</td>\n",
       "      <td>12.000000</td>\n",
       "      <td>0.000000e+00</td>\n",
       "      <td>6.000000</td>\n",
       "      <td>6.000000</td>\n",
       "      <td>6.000000</td>\n",
       "      <td>0.000000</td>\n",
       "      <td>0.000000</td>\n",
       "      <td>...</td>\n",
       "      <td>2.000000e+01</td>\n",
       "      <td>0.000000e+00</td>\n",
       "      <td>0.000000e+00</td>\n",
       "      <td>0.000000e+00</td>\n",
       "      <td>0.000000e+00</td>\n",
       "      <td>0.000000e+00</td>\n",
       "      <td>0.000000e+00</td>\n",
       "      <td>0.000000e+00</td>\n",
       "      <td>0.0</td>\n",
       "      <td>0.000000</td>\n",
       "    </tr>\n",
       "    <tr>\n",
       "      <th>50%</th>\n",
       "      <td>5.400000e+01</td>\n",
       "      <td>2.000000</td>\n",
       "      <td>0.000000</td>\n",
       "      <td>102.000000</td>\n",
       "      <td>0.000000e+00</td>\n",
       "      <td>46.000000</td>\n",
       "      <td>32.000000</td>\n",
       "      <td>43.000000</td>\n",
       "      <td>0.000000</td>\n",
       "      <td>0.000000</td>\n",
       "      <td>...</td>\n",
       "      <td>2.000000e+01</td>\n",
       "      <td>0.000000e+00</td>\n",
       "      <td>0.000000e+00</td>\n",
       "      <td>0.000000e+00</td>\n",
       "      <td>0.000000e+00</td>\n",
       "      <td>0.000000e+00</td>\n",
       "      <td>0.000000e+00</td>\n",
       "      <td>0.000000e+00</td>\n",
       "      <td>0.0</td>\n",
       "      <td>0.000000</td>\n",
       "    </tr>\n",
       "    <tr>\n",
       "      <th>75%</th>\n",
       "      <td>3.834600e+04</td>\n",
       "      <td>2.000000</td>\n",
       "      <td>2.000000</td>\n",
       "      <td>944.000000</td>\n",
       "      <td>2.400000e+01</td>\n",
       "      <td>412.000000</td>\n",
       "      <td>330.000000</td>\n",
       "      <td>359.500000</td>\n",
       "      <td>0.000000</td>\n",
       "      <td>6.000000</td>\n",
       "      <td>...</td>\n",
       "      <td>3.200000e+01</td>\n",
       "      <td>0.000000e+00</td>\n",
       "      <td>0.000000e+00</td>\n",
       "      <td>0.000000e+00</td>\n",
       "      <td>0.000000e+00</td>\n",
       "      <td>0.000000e+00</td>\n",
       "      <td>0.000000e+00</td>\n",
       "      <td>0.000000e+00</td>\n",
       "      <td>0.0</td>\n",
       "      <td>1.000000</td>\n",
       "    </tr>\n",
       "    <tr>\n",
       "      <th>max</th>\n",
       "      <td>1.199782e+08</td>\n",
       "      <td>1302.000000</td>\n",
       "      <td>2384.000000</td>\n",
       "      <td>150726.000000</td>\n",
       "      <td>4.068626e+06</td>\n",
       "      <td>3620.000000</td>\n",
       "      <td>1791.000000</td>\n",
       "      <td>1791.000000</td>\n",
       "      <td>1243.786011</td>\n",
       "      <td>3577.000000</td>\n",
       "      <td>...</td>\n",
       "      <td>4.294967e+09</td>\n",
       "      <td>1.103203e+07</td>\n",
       "      <td>7.914871e+06</td>\n",
       "      <td>1.560456e+07</td>\n",
       "      <td>1.103203e+07</td>\n",
       "      <td>1.119934e+08</td>\n",
       "      <td>6.188006e+07</td>\n",
       "      <td>1.119934e+08</td>\n",
       "      <td>111993448.0</td>\n",
       "      <td>1.000000</td>\n",
       "    </tr>\n",
       "  </tbody>\n",
       "</table>\n",
       "<p>8 rows × 66 columns</p>\n",
       "</div>"
      ],
      "text/plain": [
       "        Flow Duration   Total Fwd Packets   Total Backward Packets  \\\n",
       "count    1.960500e+04        19605.000000             19605.000000   \n",
       "mean     6.239214e+06            5.774598                 4.823412   \n",
       "std      2.348872e+07           25.516342                41.273931   \n",
       "min      1.000000e+00            1.000000                 0.000000   \n",
       "25%      1.000000e+00            2.000000                 0.000000   \n",
       "50%      5.400000e+01            2.000000                 0.000000   \n",
       "75%      3.834600e+04            2.000000                 2.000000   \n",
       "max      1.199782e+08         1302.000000              2384.000000   \n",
       "\n",
       "       Total Length of Fwd Packets   Total Length of Bwd Packets  \\\n",
       "count                 19605.000000                  1.960500e+04   \n",
       "mean                    928.839783                  3.659619e+03   \n",
       "std                    3012.684814                  6.642376e+04   \n",
       "min                       0.000000                  0.000000e+00   \n",
       "25%                      12.000000                  0.000000e+00   \n",
       "50%                     102.000000                  0.000000e+00   \n",
       "75%                     944.000000                  2.400000e+01   \n",
       "max                  150726.000000                  4.068626e+06   \n",
       "\n",
       "        Fwd Packet Length Max   Fwd Packet Length Min  \\\n",
       "count            19605.000000            19605.000000   \n",
       "mean               290.428558              215.282639   \n",
       "std                443.534821              355.898376   \n",
       "min                  0.000000                0.000000   \n",
       "25%                  6.000000                6.000000   \n",
       "50%                 46.000000               32.000000   \n",
       "75%                412.000000              330.000000   \n",
       "max               3620.000000             1791.000000   \n",
       "\n",
       "        Fwd Packet Length Mean   Fwd Packet Length Std  Bwd Packet Length Max  \\\n",
       "count             19605.000000            19605.000000           19605.000000   \n",
       "mean                230.695847               24.508892             146.655548   \n",
       "std                 353.969208               98.042755             538.466919   \n",
       "min                   0.000000                0.000000               0.000000   \n",
       "25%                   6.000000                0.000000               0.000000   \n",
       "50%                  43.000000                0.000000               0.000000   \n",
       "75%                 359.500000                0.000000               6.000000   \n",
       "max                1791.000000             1243.786011            3577.000000   \n",
       "\n",
       "       ...   min_seg_size_forward   Active Mean    Active Std    Active Max  \\\n",
       "count  ...           1.960500e+04  1.960500e+04  1.960500e+04  1.960500e+04   \n",
       "mean   ...           1.361622e+08  5.168891e+04  2.289987e+04  7.921046e+04   \n",
       "std    ...           7.041754e+08  4.170448e+05  2.229945e+05  5.845965e+05   \n",
       "min    ...           0.000000e+00  0.000000e+00  0.000000e+00  0.000000e+00   \n",
       "25%    ...           2.000000e+01  0.000000e+00  0.000000e+00  0.000000e+00   \n",
       "50%    ...           2.000000e+01  0.000000e+00  0.000000e+00  0.000000e+00   \n",
       "75%    ...           3.200000e+01  0.000000e+00  0.000000e+00  0.000000e+00   \n",
       "max    ...           4.294967e+09  1.103203e+07  7.914871e+06  1.560456e+07   \n",
       "\n",
       "         Active Min     Idle Mean      Idle Std      Idle Max     Idle Min  \\\n",
       "count  1.960500e+04  1.960500e+04  1.960500e+04  1.960500e+04      19605.0   \n",
       "mean   3.744815e+04  2.357688e+06  2.343408e+05  2.580800e+06    2157393.5   \n",
       "std    3.825086e+05  1.014565e+07  2.068752e+06  1.083784e+07    9788354.0   \n",
       "min    0.000000e+00  0.000000e+00  0.000000e+00  0.000000e+00          0.0   \n",
       "25%    0.000000e+00  0.000000e+00  0.000000e+00  0.000000e+00          0.0   \n",
       "50%    0.000000e+00  0.000000e+00  0.000000e+00  0.000000e+00          0.0   \n",
       "75%    0.000000e+00  0.000000e+00  0.000000e+00  0.000000e+00          0.0   \n",
       "max    1.103203e+07  1.119934e+08  6.188006e+07  1.119934e+08  111993448.0   \n",
       "\n",
       "              Label  \n",
       "count  19605.000000  \n",
       "mean       0.497169  \n",
       "std        0.500005  \n",
       "min        0.000000  \n",
       "25%        0.000000  \n",
       "50%        0.000000  \n",
       "75%        1.000000  \n",
       "max        1.000000  \n",
       "\n",
       "[8 rows x 66 columns]"
      ]
     },
     "execution_count": 7,
     "metadata": {},
     "output_type": "execute_result"
    }
   ],
   "source": [
    "df.describe()"
   ]
  },
  {
   "cell_type": "code",
   "execution_count": 8,
   "id": "4d45b524",
   "metadata": {},
   "outputs": [],
   "source": [
    "for col in df.select_dtypes(exclude='category').columns.tolist():\n",
    "    df.loc[df[col] < 0, col] = np.nan"
   ]
  },
  {
   "cell_type": "code",
   "execution_count": 9,
   "id": "25ccd834",
   "metadata": {},
   "outputs": [],
   "source": [
    "df.replace([np.inf, -np.inf], np.nan, inplace=True)"
   ]
  },
  {
   "cell_type": "code",
   "execution_count": 10,
   "id": "eac62992",
   "metadata": {},
   "outputs": [
    {
     "name": "stdout",
     "output_type": "stream",
     "text": [
      " Flow Duration         0\n",
      "Subflow Fwd Packets    0\n",
      " Max Packet Length     0\n",
      " Packet Length Mean    0\n",
      " Packet Length Std     0\n",
      "                      ..\n",
      " Bwd IAT Max           0\n",
      " Bwd IAT Min           0\n",
      "Fwd PSH Flags          0\n",
      " Fwd Header Length     0\n",
      " Label                 0\n",
      "Length: 66, dtype: int64\n"
     ]
    }
   ],
   "source": [
    "print(df.isna().sum().sort_values(ascending=False))\n",
    "df = df.drop([features['flow_packets_s'], features['flow_bytes_s']], axis=1)"
   ]
  },
  {
   "cell_type": "code",
   "execution_count": 11,
   "id": "6dc045a5",
   "metadata": {},
   "outputs": [],
   "source": [
    "df.dropna(axis=0, inplace=True)\n",
    "df.reset_index(drop=True, inplace=True)"
   ]
  },
  {
   "cell_type": "code",
   "execution_count": 12,
   "id": "38b11d58",
   "metadata": {},
   "outputs": [],
   "source": [
    "X = df.drop(class_label, axis=1)\n",
    "y = df[class_label]"
   ]
  },
  {
   "cell_type": "code",
   "execution_count": 13,
   "id": "673df18a",
   "metadata": {},
   "outputs": [
    {
     "name": "stdout",
     "output_type": "stream",
     "text": [
      "set()\n"
     ]
    }
   ],
   "source": [
    "columns = set(X.columns)\n",
    "X = remove_zero_variance(X)\n",
    "print(columns - set(X.columns))"
   ]
  },
  {
   "cell_type": "code",
   "execution_count": 14,
   "id": "cdbec570",
   "metadata": {},
   "outputs": [],
   "source": [
    "numeric_X = X.select_dtypes(exclude='category')\n",
    "corr_matrix = numeric_X.corr(method='pearson')"
   ]
  },
  {
   "cell_type": "code",
   "execution_count": 15,
   "id": "040e6d04",
   "metadata": {},
   "outputs": [],
   "source": [
    "redundent_features = set()\n",
    "for i in range(len(corr_matrix.columns)):\n",
    "    for j in range(i):\n",
    "        if abs(corr_matrix.iloc[i, j]) > 0.8:\n",
    "            redundent_features.add(corr_matrix.columns[i])"
   ]
  },
  {
   "cell_type": "code",
   "execution_count": 16,
   "id": "adba022f",
   "metadata": {},
   "outputs": [
    {
     "data": {
      "image/png": "[encoded data removed]",
      "text/plain": [
       "<Figure size 749.52x524.88 with 2 Axes>"
      ]
     },
     "metadata": {
      "needs_background": "light"
     },
     "output_type": "display_data"
    }
   ],
   "source": [
    "plot_correlation(\n",
    "    corr_matrix,\n",
    "    'numeric-correlation.png',\n",
    "    save=False\n",
    "#     labels=numeric_X.columns.to_list()\n",
    ")"
   ]
  },
  {
   "cell_type": "code",
   "execution_count": 17,
   "id": "792a29ee",
   "metadata": {},
   "outputs": [
    {
     "name": "stdout",
     "output_type": "stream",
     "text": [
      "{'Bwd IAT Total', ' Avg Bwd Segment Size', ' Total Backward Packets', ' Bwd Packet Length Mean', ' Flow IAT Max', ' RST Flag Count', ' Avg Fwd Segment Size', 'Idle Mean', 'Subflow Fwd Packets', 'Fwd IAT Total', ' Active Min', ' Flow IAT Std', ' Packet Length Mean', ' Fwd IAT Std', ' Fwd Packet Length Mean', ' Subflow Fwd Bytes', ' Bwd IAT Std', ' Idle Min', ' Bwd Packet Length Std', ' Bwd IAT Max', ' Fwd IAT Min', ' Fwd IAT Mean', ' Packet Length Std', ' Fwd Header Length.1', ' Min Packet Length', ' Packet Length Variance', ' Average Packet Size', ' Fwd IAT Max', ' Active Max', ' Total Length of Bwd Packets', ' Subflow Bwd Packets', ' min_seg_size_forward', ' Subflow Bwd Bytes', ' Max Packet Length', ' Idle Max'}\n"
     ]
    }
   ],
   "source": [
    "print(redundent_features)\n",
    "X.drop(list(redundent_features), axis=1, inplace=True)"
   ]
  },
  {
   "cell_type": "code",
   "execution_count": 18,
   "id": "b7909a1a",
   "metadata": {},
   "outputs": [
    {
     "name": "stdout",
     "output_type": "stream",
     "text": [
      "(19605, 28)\n"
     ]
    }
   ],
   "source": [
    "scale = StandardScaler()\n",
    "X_norm = scale.fit_transform(X)\n",
    "print(X_norm.shape)"
   ]
  },
  {
   "cell_type": "code",
   "execution_count": 19,
   "id": "9137a528",
   "metadata": {},
   "outputs": [
    {
     "data": {
      "text/plain": [
       "[<matplotlib.lines.Line2D at 0x7fb4ac58f340>]"
      ]
     },
     "execution_count": 19,
     "metadata": {},
     "output_type": "execute_result"
    },
    {
     "data": {
      "image/png": "[encoded data removed]",
      "text/plain": [
       "<Figure size 432x288 with 1 Axes>"
      ]
     },
     "metadata": {
      "needs_background": "light"
     },
     "output_type": "display_data"
    }
   ],
   "source": [
    "cost = []\n",
    "for i in range(1, 10):\n",
    "    kmeans = KMeans(n_clusters=i)\n",
    "    kmeans.fit(X_norm)\n",
    "    cost.append(kmeans.inertia_)\n",
    "plt.plot(cost, 'bx-')"
   ]
  },
  {
   "cell_type": "code",
   "execution_count": 20,
   "id": "b974d94c",
   "metadata": {},
   "outputs": [],
   "source": [
    "kmeans = KMeans(n_clusters=4)\n",
    "kmeans.fit(X_norm)\n",
    "kmeans_labels = kmeans.labels_"
   ]
  },
  {
   "cell_type": "code",
   "execution_count": 21,
   "id": "54e857e1",
   "metadata": {},
   "outputs": [
    {
     "data": {
      "text/plain": [
       "(19605, 2)"
      ]
     },
     "execution_count": 21,
     "metadata": {},
     "output_type": "execute_result"
    }
   ],
   "source": [
    "pca = PCA(2)\n",
    "pca.fit(X_norm)\n",
    "X_PCA = pca.transform(X_norm)\n",
    "X_PCA.shape"
   ]
  },
  {
   "cell_type": "code",
   "execution_count": 22,
   "id": "feb2f985",
   "metadata": {},
   "outputs": [],
   "source": [
    "x_pca, y_pca = X_PCA[:, 0], X_PCA[:, 1]\n",
    "colors = {0: 'red',\n",
    "          1: 'blue',\n",
    "          2: 'green', \n",
    "          3: 'yellow',\n",
    "          4: 'orange',\n",
    "          5: 'purple',\n",
    "          6: 'pink',\n",
    "          7: 'gray',\n",
    "          8: 'brown'}\n",
    "pca_df = pd.DataFrame({'x': x_pca, 'y': y_pca, 'label': kmeans_labels})\n",
    "groups = pca_df.groupby('label')"
   ]
  },
  {
   "cell_type": "code",
   "execution_count": 23,
   "id": "20a278eb",
   "metadata": {},
   "outputs": [
    {
     "data": {
      "image/png": "[encoded data removed]",
      "text/plain": [
       "<Figure size 432x432 with 1 Axes>"
      ]
     },
     "metadata": {
      "needs_background": "light"
     },
     "output_type": "display_data"
    }
   ],
   "source": [
    "fig, ax = plt.subplots(figsize=(6, 6))\n",
    "for name, group in groups:\n",
    "    ax.plot(group.x, group.y, marker='o', linestyle='', ms=5,\n",
    "            color=colors[name], mec='none')\n",
    "    ax.set_aspect('auto')\n",
    "    ax.tick_params(axis='x',which='both',bottom='off',top='off',labelbottom='off')\n",
    "    ax.tick_params(axis= 'y',which='both',left='off',top='off',labelleft='off')\n",
    "centroids = kmeans.cluster_centers_\n",
    "plt.scatter(centroids[:, 0], centroids[:, 1], s=80, color='black')\n",
    "plt.show()"
   ]
  },
  {
   "cell_type": "code",
   "execution_count": 24,
   "id": "d67cff26",
   "metadata": {},
   "outputs": [
    {
     "data": {
      "image/png": "[encoded data removed]",
      "text/plain": [
       "<Figure size 432x288 with 1 Axes>"
      ]
     },
     "metadata": {
      "needs_background": "light"
     },
     "output_type": "display_data"
    },
    {
     "data": {
      "image/png": "[encoded data removed]",
      "text/plain": [
       "<Figure size 432x288 with 1 Axes>"
      ]
     },
     "metadata": {
      "needs_background": "light"
     },
     "output_type": "display_data"
    },
    {
     "data": {
      "image/png": "[encoded data removed]",
      "text/plain": [
       "<Figure size 432x288 with 1 Axes>"
      ]
     },
     "metadata": {
      "needs_background": "light"
     },
     "output_type": "display_data"
    },
    {
     "data": {
      "image/png": "[encoded data removed]",
      "text/plain": [
       "<Figure size 432x288 with 1 Axes>"
      ]
     },
     "metadata": {
      "needs_background": "light"
     },
     "output_type": "display_data"
    }
   ],
   "source": [
    "outliers = []\n",
    "for i, center in enumerate(centroids):\n",
    "    distances = cdist([center], X_norm[kmeans_labels == i], 'euclidean').ravel()\n",
    "    truthness = (kmeans_labels == i)\n",
    "    indices = []\n",
    "    for j in range(len(truthness)):\n",
    "        if truthness[j]:\n",
    "            indices.append(j)\n",
    "    min_range, max_range = get_box_whisker_range(pd.DataFrame({'distance': pd.Series(distances)}))\n",
    "    min_range = min_range['distance']\n",
    "    max_range = max_range['distance']\n",
    "    for i in range(len(indices)):\n",
    "        if distances[i] > max_range or distances[i] < min_range:\n",
    "            outliers.append(indices[i])\n",
    "    plt.boxplot(distances.tolist())\n",
    "    plt.show()"
   ]
  },
  {
   "cell_type": "code",
   "execution_count": 25,
   "id": "c1c3353c",
   "metadata": {},
   "outputs": [
    {
     "name": "stdout",
     "output_type": "stream",
     "text": [
      "1313\n"
     ]
    }
   ],
   "source": [
    "print(len(outliers))\n",
    "X.drop(outliers, axis=0, inplace=True)\n",
    "y.drop(outliers, axis=0, inplace=True)"
   ]
  },
  {
   "cell_type": "code",
   "execution_count": 26,
   "id": "78687121",
   "metadata": {},
   "outputs": [],
   "source": [
    "df = pd.concat([X, y], axis=1)"
   ]
  },
  {
   "cell_type": "code",
   "execution_count": 27,
   "id": "04a68d12",
   "metadata": {},
   "outputs": [],
   "source": [
    "df.to_csv(f'../dataset/clean-{filename}', index=False)"
   ]
  },
  {
   "cell_type": "code",
   "execution_count": null,
   "id": "d67ca878",
   "metadata": {},
   "outputs": [],
   "source": []
  }
 ],
 "metadata": {
  "kernelspec": {
   "display_name": "Python 3 (ipykernel)",
   "language": "python",
   "name": "python3"
  },
  "language_info": {
   "codemirror_mode": {
    "name": "ipython",
    "version": 3
   },
   "file_extension": ".py",
   "mimetype": "text/x-python",
   "name": "python",
   "nbconvert_exporter": "python",
   "pygments_lexer": "ipython3",
   "version": "3.8.10"
  }
 },
 "nbformat": 4,
 "nbformat_minor": 5
}
