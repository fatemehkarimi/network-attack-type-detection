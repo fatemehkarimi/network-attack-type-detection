{
 "cells": [
  {
   "cell_type": "code",
   "execution_count": 1,
   "id": "2a1f9df0",
   "metadata": {},
   "outputs": [],
   "source": [
    "import math\n",
    "import json\n",
    "import pandas as pd\n",
    "import configparser\n",
    "import matplotlib.pyplot as plt\n",
    "from sklearn.model_selection import StratifiedShuffleSplit\n",
    "from metadata.const import features, dtypes, class_label"
   ]
  },
  {
   "cell_type": "code",
   "execution_count": 2,
   "id": "5298866b",
   "metadata": {},
   "outputs": [],
   "source": [
    "config = configparser.RawConfigParser()\n",
    "config.read('../settings.ini')\n",
    "data_config = dict(config.items('DATA'))\n",
    "chunk_size = int(data_config['chunk_size'])"
   ]
  },
  {
   "cell_type": "code",
   "execution_count": 3,
   "id": "8cd8fa4c",
   "metadata": {},
   "outputs": [],
   "source": [
    "data_files = ['./03-11/LDAP.csv', './03-11/MSSQL.csv', './03-11/NetBIOS.csv', './03-11/Portmap.csv',\n",
    "              './03-11/Syn.csv', './03-11/UDP.csv', './03-11/UDPLag.csv']"
   ]
  },
  {
   "cell_type": "code",
   "execution_count": 4,
   "id": "1361f0ab",
   "metadata": {},
   "outputs": [
    {
     "name": "stdout",
     "output_type": "stream",
     "text": [
      "{'labels': {'LDAP': 1915122, 'NetBIOS': 3657497, 'BENIGN': 56965, 'MSSQL': 5787453, 'Portmap': 186960, 'Syn': 4891500, 'UDP': 3867155, 'UDPLag': 1873}, 'total': 20364525}\n"
     ]
    }
   ],
   "source": [
    "label_freq = {}\n",
    "with open('../metadata/label_frequency.json', 'r') as f:\n",
    "    label_freq = json.load(f)\n",
    "print(label_freq)"
   ]
  },
  {
   "cell_type": "code",
   "execution_count": 5,
   "id": "3b63f23d",
   "metadata": {},
   "outputs": [
    {
     "name": "stdout",
     "output_type": "stream",
     "text": [
      "{'labels': {'LDAP': 0.143, 'NetBIOS': 0.143, 'BENIGN': 0.143, 'MSSQL': 0.143, 'Portmap': 0.143, 'Syn': 0.143, 'UDP': 0.143, 'UDPLag': 0}, 'total': 200000}\n"
     ]
    }
   ],
   "source": [
    "sample_config = {}\n",
    "with open('../metadata/sample_config.json', 'r') as f:\n",
    "    sample_config = json.load(f)\n",
    "print(sample_config)"
   ]
  },
  {
   "cell_type": "code",
   "execution_count": 6,
   "id": "94317c39",
   "metadata": {},
   "outputs": [],
   "source": [
    "def get_sample(filename, label, label_freq, sample_freq):\n",
    "    all_df = pd.read_csv(filename, chunksize=chunk_size, dtype=dtypes, low_memory=False)\n",
    "    final_sample = pd.DataFrame()\n",
    "    for df in all_df:\n",
    "        labeled_df = df.loc[df[class_label] == label]\n",
    "        percent = len(labeled_df.index) / label_freq\n",
    "        if sample_freq > label_freq:\n",
    "            sample_df = labeled_df.sample(n=int(math.ceil(percent * sample_freq)), replace=True)\n",
    "        else:\n",
    "            sample_df = labeled_df.sample(n=int(math.ceil(percent * sample_freq)))\n",
    "        final_sample = pd.concat([final_sample, sample_df])\n",
    "    return final_sample"
   ]
  },
  {
   "cell_type": "code",
   "execution_count": 7,
   "id": "2392bff7",
   "metadata": {},
   "outputs": [],
   "source": [
    "sample_df = pd.DataFrame()\n",
    "for l in label_freq['labels'].keys():\n",
    "    label_df = pd.DataFrame()\n",
    "    for file in data_files:\n",
    "        l_sample_freq = sample_config['total'] * sample_config['labels'][l]\n",
    "        df = get_sample(file, l, label_freq['labels'][l], l_sample_freq)\n",
    "        label_df = pd.concat([label_df, df])\n",
    "    sample_df = pd.concat([sample_df, label_df])"
   ]
  },
  {
   "cell_type": "code",
   "execution_count": 8,
   "id": "52598b50",
   "metadata": {},
   "outputs": [],
   "source": [
    "sample_df['target'] = (sample_df[class_label] != 'BENIGN')\n",
    "sample_df['target'].astype(int)\n",
    "sample_df.drop(class_label, axis=1, inplace=True)\n",
    "sample_df.rename({'target': class_label}, axis=1, inplace=True)"
   ]
  },
  {
   "cell_type": "code",
   "execution_count": 9,
   "id": "db058d09",
   "metadata": {},
   "outputs": [
    {
     "name": "stdout",
     "output_type": "stream",
     "text": [
      "200251\n"
     ]
    }
   ],
   "source": [
    "print(len(sample_df.index))"
   ]
  },
  {
   "cell_type": "code",
   "execution_count": 10,
   "id": "6a2213d9",
   "metadata": {},
   "outputs": [
    {
     "name": "stdout",
     "output_type": "stream",
     "text": [
      "True     85.70544\n",
      "False    14.29456\n",
      "Name:  Label, dtype: float64\n"
     ]
    },
    {
     "data": {
      "text/plain": [
       "<AxesSubplot:>"
      ]
     },
     "execution_count": 10,
     "metadata": {},
     "output_type": "execute_result"
    },
    {
     "data": {
      "image/png": "[encoded data removed]",
      "text/plain": [
       "<Figure size 432x288 with 1 Axes>"
      ]
     },
     "metadata": {
      "needs_background": "light"
     },
     "output_type": "display_data"
    }
   ],
   "source": [
    "print(sample_df[class_label].value_counts(normalize=True) * 100)\n",
    "sample_df[class_label].value_counts(normalize=True).plot(kind='bar')"
   ]
  },
  {
   "cell_type": "code",
   "execution_count": 11,
   "id": "05cb3d5c",
   "metadata": {},
   "outputs": [],
   "source": [
    "sample_df.to_csv(f\"sample-{sample_config['total']}.csv\", index=False)"
   ]
  },
  {
   "cell_type": "code",
   "execution_count": null,
   "id": "0e7daa5f",
   "metadata": {},
   "outputs": [],
   "source": []
  }
 ],
 "metadata": {
  "kernelspec": {
   "display_name": "Python 3 (ipykernel)",
   "language": "python",
   "name": "python3"
  },
  "language_info": {
   "codemirror_mode": {
    "name": "ipython",
    "version": 3
   },
   "file_extension": ".py",
   "mimetype": "text/x-python",
   "name": "python",
   "nbconvert_exporter": "python",
   "pygments_lexer": "ipython3",
   "version": "3.8.10"
  }
 },
 "nbformat": 4,
 "nbformat_minor": 5
}
