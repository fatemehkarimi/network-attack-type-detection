{
 "cells": [
  {
   "cell_type": "code",
   "execution_count": 1,
   "id": "2a1f9df0",
   "metadata": {},
   "outputs": [],
   "source": [
    "import math\n",
    "import json\n",
    "import pandas as pd\n",
    "import configparser"
   ]
  },
  {
   "cell_type": "code",
   "execution_count": 2,
   "id": "5298866b",
   "metadata": {},
   "outputs": [],
   "source": [
    "config = configparser.RawConfigParser()\n",
    "config.read('../settings.ini')\n",
    "sample_config = dict(config.items('SAMPLE'))\n",
    "data_config = dict(config.items('DATA'))\n",
    "chunk_size = int(data_config['chunk_size'])\n",
    "sample_size = int(sample_config['sample_size'])"
   ]
  },
  {
   "cell_type": "code",
   "execution_count": 3,
   "id": "1361f0ab",
   "metadata": {},
   "outputs": [
    {
     "name": "stdout",
     "output_type": "stream",
     "text": [
      "{'LDAP': 0.09404206579824474, 'NetBIOS': 0.17960139016254983, 'BENIGN': 0.002797266324650342, 'MSSQL': 0.2841928795294759, 'Portmap': 0.009180670798852417, 'Syn': 0.24019710746997536, 'UDP': 0.18989664625126293, 'UDPLag': 9.197366498850329e-05}\n"
     ]
    }
   ],
   "source": [
    "label_freq = {}\n",
    "with open('../metadata/label_frequency.json', 'r') as f:\n",
    "    label_freq = json.load(f)\n",
    "label_percent = {l: freq / label_freq['total'] for l, freq in label_freq['labels'].items()}\n",
    "print(label_percent)"
   ]
  },
  {
   "cell_type": "code",
   "execution_count": 4,
   "id": "3b63f23d",
   "metadata": {},
   "outputs": [],
   "source": [
    "sample_freq = {l: math.ceil(percent * sample_size) for l, percent in label_percent.items()}"
   ]
  },
  {
   "cell_type": "code",
   "execution_count": 5,
   "id": "ca64070d",
   "metadata": {},
   "outputs": [
    {
     "name": "stdout",
     "output_type": "stream",
     "text": [
      "{'LDAP': 95, 'NetBIOS': 180, 'BENIGN': 3, 'MSSQL': 285, 'Portmap': 10, 'Syn': 241, 'UDP': 190, 'UDPLag': 1}\n"
     ]
    }
   ],
   "source": [
    "print(sample_freq)"
   ]
  },
  {
   "cell_type": "code",
   "execution_count": 6,
   "id": "94317c39",
   "metadata": {},
   "outputs": [],
   "source": [
    "def get_sample(filename, label, label_freq, sample_freq):\n",
    "    all_df = pd.read_csv(filename, chunksize=chunk_size, low_memory=False)\n",
    "    final_sample = pd.DataFrame()\n",
    "    for df in all_df:\n",
    "        labeled_df = df.loc[df[' Label'] == label]\n",
    "        percent = len(labeled_df.index) / label_freq[label]\n",
    "        sample_df = labeled_df.sample(n=math.ceil(percent * sample_freq[label]))\n",
    "        final_sample = pd.concat([final_sample, sample_df])\n",
    "    return final_sample"
   ]
  },
  {
   "cell_type": "code",
   "execution_count": 7,
   "id": "2392bff7",
   "metadata": {},
   "outputs": [],
   "source": [
    "data_files = ['./03-11/LDAP.csv', './03-11/MSSQL.csv', './03-11/NetBIOS.csv', './03-11/Portmap.csv',\n",
    "              './03-11/Syn.csv', './03-11/UDP.csv', './03-11/UDPLag.csv']\n",
    "sample_df = pd.DataFrame()\n",
    "for label in label_freq['labels'].keys():\n",
    "    label_df = pd.DataFrame()\n",
    "    for file in data_files:\n",
    "        df = get_sample(file, label, label_freq['labels'], sample_freq)\n",
    "        label_df = pd.concat([label_df, df])\n",
    "    sample_df = pd.concat([sample_df, label_df])\n",
    "sample_df.to_csv('sample.csv')"
   ]
  },
  {
   "cell_type": "code",
   "execution_count": 8,
   "id": "db058d09",
   "metadata": {},
   "outputs": [
    {
     "name": "stdout",
     "output_type": "stream",
     "text": [
      "1024\n",
      "{'labels': {'LDAP': 1915122, 'NetBIOS': 3657497, 'BENIGN': 56965, 'MSSQL': 5787453, 'Portmap': 186960, 'Syn': 4891500, 'UDP': 3867155, 'UDPLag': 1873}, 'total': 20364525}\n",
      "{'LDAP': 95, 'NetBIOS': 180, 'BENIGN': 3, 'MSSQL': 285, 'Portmap': 10, 'Syn': 241, 'UDP': 190, 'UDPLag': 1}\n"
     ]
    }
   ],
   "source": [
    "print(len(sample_df.index))\n",
    "print(label_freq)\n",
    "print(sample_freq)"
   ]
  },
  {
   "cell_type": "code",
   "execution_count": null,
   "id": "2561efbe",
   "metadata": {},
   "outputs": [],
   "source": []
  }
 ],
 "metadata": {
  "kernelspec": {
   "display_name": "Python 3 (ipykernel)",
   "language": "python",
   "name": "python3"
  },
  "language_info": {
   "codemirror_mode": {
    "name": "ipython",
    "version": 3
   },
   "file_extension": ".py",
   "mimetype": "text/x-python",
   "name": "python",
   "nbconvert_exporter": "python",
   "pygments_lexer": "ipython3",
   "version": "3.8.10"
  }
 },
 "nbformat": 4,
 "nbformat_minor": 5
}
