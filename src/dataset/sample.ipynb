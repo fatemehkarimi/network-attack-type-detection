{
 "cells": [
  {
   "cell_type": "code",
   "execution_count": 1,
   "id": "2a1f9df0",
   "metadata": {},
   "outputs": [],
   "source": [
    "import math\n",
    "import json\n",
    "import pandas as pd\n",
    "import configparser\n",
    "import matplotlib.pyplot as plt\n",
    "from imblearn.over_sampling import RandomOverSampler\n",
    "from imblearn.under_sampling import RandomUnderSampler\n",
    "from sklearn.model_selection import StratifiedShuffleSplit\n",
    "from metadata.const import features, dtypes, class_label"
   ]
  },
  {
   "cell_type": "code",
   "execution_count": 2,
   "id": "5298866b",
   "metadata": {},
   "outputs": [],
   "source": [
    "config = configparser.RawConfigParser()\n",
    "config.read('../settings.ini')\n",
    "data_config = dict(config.items('DATA'))\n",
    "chunk_size = int(data_config['chunk_size'])"
   ]
  },
  {
   "cell_type": "code",
   "execution_count": 3,
   "id": "8cd8fa4c",
   "metadata": {},
   "outputs": [],
   "source": [
    "data_files = ['./03-11/LDAP.csv', './03-11/MSSQL.csv', './03-11/NetBIOS.csv', './03-11/Portmap.csv',\n",
    "              './03-11/Syn.csv', './03-11/UDP.csv', './03-11/UDPLag.csv']"
   ]
  },
  {
   "cell_type": "code",
   "execution_count": 4,
   "id": "d3e44eec",
   "metadata": {},
   "outputs": [
    {
     "ename": "ParserError",
     "evalue": "Error tokenizing data. C error: Calling read(nbytes) on source failed. Try engine='python'.",
     "output_type": "error",
     "traceback": [
      "\u001b[0;31m---------------------------------------------------------------------------\u001b[0m",
      "\u001b[0;31mParserError\u001b[0m                               Traceback (most recent call last)",
      "Input \u001b[0;32mIn [4]\u001b[0m, in \u001b[0;36m<cell line: 2>\u001b[0;34m()\u001b[0m\n\u001b[1;32m      2\u001b[0m \u001b[38;5;28;01mfor\u001b[39;00m file \u001b[38;5;129;01min\u001b[39;00m data_files:\n\u001b[1;32m      3\u001b[0m     chunks \u001b[38;5;241m=\u001b[39m pd\u001b[38;5;241m.\u001b[39mread_csv(\n\u001b[1;32m      4\u001b[0m         file,\n\u001b[1;32m      5\u001b[0m         chunksize\u001b[38;5;241m=\u001b[39mchunk_size,\n\u001b[1;32m      6\u001b[0m         dtype\u001b[38;5;241m=\u001b[39mdtypes,\n\u001b[1;32m      7\u001b[0m         parse_dates\u001b[38;5;241m=\u001b[39m[features[\u001b[38;5;124m'\u001b[39m\u001b[38;5;124mtimestamp\u001b[39m\u001b[38;5;124m'\u001b[39m]],\n\u001b[1;32m      8\u001b[0m         low_memory\u001b[38;5;241m=\u001b[39m\u001b[38;5;28;01mTrue\u001b[39;00m)\n\u001b[0;32m----> 9\u001b[0m     \u001b[38;5;28;01mfor\u001b[39;00m df \u001b[38;5;129;01min\u001b[39;00m chunks:\n\u001b[1;32m     10\u001b[0m         \u001b[38;5;66;03m# devide attack types to benign/ddos\u001b[39;00m\n\u001b[1;32m     11\u001b[0m         df[\u001b[38;5;124m'\u001b[39m\u001b[38;5;124mtarget\u001b[39m\u001b[38;5;124m'\u001b[39m] \u001b[38;5;241m=\u001b[39m (df[class_label] \u001b[38;5;241m!=\u001b[39m \u001b[38;5;124m'\u001b[39m\u001b[38;5;124mBENIGN\u001b[39m\u001b[38;5;124m'\u001b[39m)\n\u001b[1;32m     12\u001b[0m         df[\u001b[38;5;124m'\u001b[39m\u001b[38;5;124mtarget\u001b[39m\u001b[38;5;124m'\u001b[39m]\u001b[38;5;241m.\u001b[39mastype(\u001b[38;5;28mint\u001b[39m)\n",
      "File \u001b[0;32m~/.local/share/virtualenvs/project2-pDzsJxjl/lib/python3.8/site-packages/pandas/io/parsers/readers.py:1187\u001b[0m, in \u001b[0;36mTextFileReader.__next__\u001b[0;34m(self)\u001b[0m\n\u001b[1;32m   1185\u001b[0m \u001b[38;5;28;01mdef\u001b[39;00m \u001b[38;5;21m__next__\u001b[39m(\u001b[38;5;28mself\u001b[39m):\n\u001b[1;32m   1186\u001b[0m     \u001b[38;5;28;01mtry\u001b[39;00m:\n\u001b[0;32m-> 1187\u001b[0m         \u001b[38;5;28;01mreturn\u001b[39;00m \u001b[38;5;28;43mself\u001b[39;49m\u001b[38;5;241;43m.\u001b[39;49m\u001b[43mget_chunk\u001b[49m\u001b[43m(\u001b[49m\u001b[43m)\u001b[49m\n\u001b[1;32m   1188\u001b[0m     \u001b[38;5;28;01mexcept\u001b[39;00m \u001b[38;5;167;01mStopIteration\u001b[39;00m:\n\u001b[1;32m   1189\u001b[0m         \u001b[38;5;28mself\u001b[39m\u001b[38;5;241m.\u001b[39mclose()\n",
      "File \u001b[0;32m~/.local/share/virtualenvs/project2-pDzsJxjl/lib/python3.8/site-packages/pandas/io/parsers/readers.py:1284\u001b[0m, in \u001b[0;36mTextFileReader.get_chunk\u001b[0;34m(self, size)\u001b[0m\n\u001b[1;32m   1282\u001b[0m         \u001b[38;5;28;01mraise\u001b[39;00m \u001b[38;5;167;01mStopIteration\u001b[39;00m\n\u001b[1;32m   1283\u001b[0m     size \u001b[38;5;241m=\u001b[39m \u001b[38;5;28mmin\u001b[39m(size, \u001b[38;5;28mself\u001b[39m\u001b[38;5;241m.\u001b[39mnrows \u001b[38;5;241m-\u001b[39m \u001b[38;5;28mself\u001b[39m\u001b[38;5;241m.\u001b[39m_currow)\n\u001b[0;32m-> 1284\u001b[0m \u001b[38;5;28;01mreturn\u001b[39;00m \u001b[38;5;28;43mself\u001b[39;49m\u001b[38;5;241;43m.\u001b[39;49m\u001b[43mread\u001b[49m\u001b[43m(\u001b[49m\u001b[43mnrows\u001b[49m\u001b[38;5;241;43m=\u001b[39;49m\u001b[43msize\u001b[49m\u001b[43m)\u001b[49m\n",
      "File \u001b[0;32m~/.local/share/virtualenvs/project2-pDzsJxjl/lib/python3.8/site-packages/pandas/io/parsers/readers.py:1254\u001b[0m, in \u001b[0;36mTextFileReader.read\u001b[0;34m(self, nrows)\u001b[0m\n\u001b[1;32m   1252\u001b[0m nrows \u001b[38;5;241m=\u001b[39m validate_integer(\u001b[38;5;124m\"\u001b[39m\u001b[38;5;124mnrows\u001b[39m\u001b[38;5;124m\"\u001b[39m, nrows)\n\u001b[1;32m   1253\u001b[0m \u001b[38;5;28;01mtry\u001b[39;00m:\n\u001b[0;32m-> 1254\u001b[0m     index, columns, col_dict \u001b[38;5;241m=\u001b[39m \u001b[38;5;28;43mself\u001b[39;49m\u001b[38;5;241;43m.\u001b[39;49m\u001b[43m_engine\u001b[49m\u001b[38;5;241;43m.\u001b[39;49m\u001b[43mread\u001b[49m\u001b[43m(\u001b[49m\u001b[43mnrows\u001b[49m\u001b[43m)\u001b[49m\n\u001b[1;32m   1255\u001b[0m \u001b[38;5;28;01mexcept\u001b[39;00m \u001b[38;5;167;01mException\u001b[39;00m:\n\u001b[1;32m   1256\u001b[0m     \u001b[38;5;28mself\u001b[39m\u001b[38;5;241m.\u001b[39mclose()\n",
      "File \u001b[0;32m~/.local/share/virtualenvs/project2-pDzsJxjl/lib/python3.8/site-packages/pandas/io/parsers/c_parser_wrapper.py:225\u001b[0m, in \u001b[0;36mCParserWrapper.read\u001b[0;34m(self, nrows)\u001b[0m\n\u001b[1;32m    223\u001b[0m \u001b[38;5;28;01mtry\u001b[39;00m:\n\u001b[1;32m    224\u001b[0m     \u001b[38;5;28;01mif\u001b[39;00m \u001b[38;5;28mself\u001b[39m\u001b[38;5;241m.\u001b[39mlow_memory:\n\u001b[0;32m--> 225\u001b[0m         chunks \u001b[38;5;241m=\u001b[39m \u001b[38;5;28;43mself\u001b[39;49m\u001b[38;5;241;43m.\u001b[39;49m\u001b[43m_reader\u001b[49m\u001b[38;5;241;43m.\u001b[39;49m\u001b[43mread_low_memory\u001b[49m\u001b[43m(\u001b[49m\u001b[43mnrows\u001b[49m\u001b[43m)\u001b[49m\n\u001b[1;32m    226\u001b[0m         \u001b[38;5;66;03m# destructive to chunks\u001b[39;00m\n\u001b[1;32m    227\u001b[0m         data \u001b[38;5;241m=\u001b[39m _concatenate_chunks(chunks)\n",
      "File \u001b[0;32m~/.local/share/virtualenvs/project2-pDzsJxjl/lib/python3.8/site-packages/pandas/_libs/parsers.pyx:817\u001b[0m, in \u001b[0;36mpandas._libs.parsers.TextReader.read_low_memory\u001b[0;34m()\u001b[0m\n",
      "File \u001b[0;32m~/.local/share/virtualenvs/project2-pDzsJxjl/lib/python3.8/site-packages/pandas/_libs/parsers.pyx:861\u001b[0m, in \u001b[0;36mpandas._libs.parsers.TextReader._read_rows\u001b[0;34m()\u001b[0m\n",
      "File \u001b[0;32m~/.local/share/virtualenvs/project2-pDzsJxjl/lib/python3.8/site-packages/pandas/_libs/parsers.pyx:847\u001b[0m, in \u001b[0;36mpandas._libs.parsers.TextReader._tokenize_rows\u001b[0;34m()\u001b[0m\n",
      "File \u001b[0;32m~/.local/share/virtualenvs/project2-pDzsJxjl/lib/python3.8/site-packages/pandas/_libs/parsers.pyx:1960\u001b[0m, in \u001b[0;36mpandas._libs.parsers.raise_parser_error\u001b[0;34m()\u001b[0m\n",
      "\u001b[0;31mParserError\u001b[0m: Error tokenizing data. C error: Calling read(nbytes) on source failed. Try engine='python'."
     ]
    }
   ],
   "source": [
    "train_df = pd.DataFrame()\n",
    "for file in data_files:\n",
    "    chunks = pd.read_csv(\n",
    "        file,\n",
    "        chunksize=chunk_size,\n",
    "        dtype=dtypes,\n",
    "        parse_dates=[features['timestamp']],\n",
    "        low_memory=True)\n",
    "    for df in chunks:\n",
    "        # devide attack types to benign/ddos\n",
    "        df['target'] = (df[class_label] != 'BENIGN')\n",
    "        df['target'].astype(int)\n",
    "        df.drop(class_label, axis=1, inplace=True)\n",
    "        df.rename({'target': class_label}, axis=1, inplace=True)\n",
    "        \n",
    "        X = df.drop(class_label, axis=True)\n",
    "        y = df[class_label]\n",
    "        \n",
    "        over_sampler = RandomOverSampler(sampling_strategy=0.05)\n",
    "        X, y = over_sampler.fit_resample(X, y)\n",
    "        \n",
    "        under_sampler = RandomUnderSampler(sampling_strategy=1)\n",
    "        X, y = under_sampler.fit_resample(X, y)\n",
    "        \n",
    "        df = pd.concat([X, y], axis=1)\n",
    "        \n",
    "        split = StratifiedShuffleSplit(n_splits=1, test_size=0.01, random_state=42)\n",
    "        for train_idx, test_idx in split.split(df, df[class_label]):\n",
    "            train_df = df.iloc[train_idx]\n",
    "print(len(train_df.index))"
   ]
  },
  {
   "cell_type": "code",
   "execution_count": 6,
   "id": "6a2213d9",
   "metadata": {},
   "outputs": [
    {
     "name": "stdout",
     "output_type": "stream",
     "text": [
      "True     50.0\n",
      "False    50.0\n",
      "Name:  Label, dtype: float64\n"
     ]
    },
    {
     "data": {
      "text/plain": [
       "<AxesSubplot:>"
      ]
     },
     "execution_count": 6,
     "metadata": {},
     "output_type": "execute_result"
    },
    {
     "data": {
      "image/png": "[encoded data removed]",
      "text/plain": [
       "<Figure size 432x288 with 1 Axes>"
      ]
     },
     "metadata": {
      "needs_background": "light"
     },
     "output_type": "display_data"
    }
   ],
   "source": [
    "print(train_df[class_label].value_counts(normalize=True) * 100)\n",
    "train_df[class_label].value_counts(normalize=True).plot(kind='bar')"
   ]
  },
  {
   "cell_type": "code",
   "execution_count": 7,
   "id": "f2069ffa",
   "metadata": {},
   "outputs": [],
   "source": [
    "train_df.to_csv('sample-new.csv', index=False)"
   ]
  },
  {
   "cell_type": "code",
   "execution_count": 4,
   "id": "1361f0ab",
   "metadata": {},
   "outputs": [
    {
     "name": "stdout",
     "output_type": "stream",
     "text": [
      "{'labels': {'LDAP': 1915122, 'NetBIOS': 3657497, 'BENIGN': 56965, 'MSSQL': 5787453, 'Portmap': 186960, 'Syn': 4891500, 'UDP': 3867155, 'UDPLag': 1873}, 'total': 20364525}\n"
     ]
    }
   ],
   "source": [
    "label_freq = {}\n",
    "with open('../metadata/label_frequency.json', 'r') as f:\n",
    "    label_freq = json.load(f)\n",
    "print(label_freq)"
   ]
  },
  {
   "cell_type": "code",
   "execution_count": 5,
   "id": "3b63f23d",
   "metadata": {},
   "outputs": [
    {
     "name": "stdout",
     "output_type": "stream",
     "text": [
      "{'labels': {'LDAP': 0.047, 'NetBIOS': 0.089, 'BENIGN': 0.5, 'MSSQL': 0.142, 'Portmap': 0.0045, 'Syn': 0.12, 'UDP': 0.094, 'UDPLag': 4.59868325e-05}, 'total': 200000}\n"
     ]
    }
   ],
   "source": [
    "sample_config = {}\n",
    "with open('../metadata/sample_config.json', 'r') as f:\n",
    "    sample_config = json.load(f)\n",
    "print(sample_config)"
   ]
  },
  {
   "cell_type": "code",
   "execution_count": 8,
   "id": "94317c39",
   "metadata": {},
   "outputs": [],
   "source": [
    "def get_sample(filename, label, label_freq, sample_freq):\n",
    "    all_df = pd.read_csv(filename, chunksize=chunk_size, dtype=dtypes, parse_dates=[features['timestamp']], low_memory=True)\n",
    "    final_sample = pd.DataFrame()\n",
    "    for df in all_df:\n",
    "        labeled_df = df.loc[df[class_label] == label]\n",
    "        percent = len(labeled_df.index) / label_freq\n",
    "        if sample_freq > label_freq:\n",
    "            sample_df = labeled_df.sample(n=math.ceil(percent * sample_freq), replace=True)\n",
    "        else:\n",
    "            sample_df = labeled_df.sample(n=math.ceil(percent * sample_freq))\n",
    "        final_sample = pd.concat([final_sample, sample_df])\n",
    "    return final_sample"
   ]
  },
  {
   "cell_type": "code",
   "execution_count": 9,
   "id": "2392bff7",
   "metadata": {},
   "outputs": [],
   "source": [
    "sample_df = pd.DataFrame()\n",
    "for l in label_freq['labels'].keys():\n",
    "    label_df = pd.DataFrame()\n",
    "    for file in data_files:\n",
    "        l_sample_freq = sample_config['total'] * sample_config['labels'][l]\n",
    "        df = get_sample(file, l, label_freq['labels'][l], l_sample_freq)\n",
    "        label_df = pd.concat([label_df, df])\n",
    "    sample_df = pd.concat([sample_df, label_df])"
   ]
  },
  {
   "cell_type": "code",
   "execution_count": 10,
   "id": "db058d09",
   "metadata": {},
   "outputs": [
    {
     "name": "stdout",
     "output_type": "stream",
     "text": [
      "199356\n"
     ]
    }
   ],
   "source": [
    "print(len(sample_df.index))"
   ]
  },
  {
   "cell_type": "code",
   "execution_count": 11,
   "id": "52598b50",
   "metadata": {},
   "outputs": [],
   "source": [
    "sample_df['target'] = (sample_df[class_label] != 'BENIGN')\n",
    "sample_df['target'].astype(int)\n",
    "sample_df.drop(class_label, axis=1, inplace=True)\n",
    "sample_df.rename({'target': class_label}, axis=1, inplace=True)"
   ]
  },
  {
   "cell_type": "code",
   "execution_count": 13,
   "id": "05cb3d5c",
   "metadata": {},
   "outputs": [],
   "source": [
    "sample_df.to_csv(f\"sample-{sample_config['total']}.csv\", index=False)"
   ]
  },
  {
   "cell_type": "code",
   "execution_count": null,
   "id": "2561efbe",
   "metadata": {},
   "outputs": [],
   "source": []
  },
  {
   "cell_type": "code",
   "execution_count": null,
   "id": "31501a40",
   "metadata": {},
   "outputs": [],
   "source": []
  }
 ],
 "metadata": {
  "kernelspec": {
   "display_name": "Python 3 (ipykernel)",
   "language": "python",
   "name": "python3"
  },
  "language_info": {
   "codemirror_mode": {
    "name": "ipython",
    "version": 3
   },
   "file_extension": ".py",
   "mimetype": "text/x-python",
   "name": "python",
   "nbconvert_exporter": "python",
   "pygments_lexer": "ipython3",
   "version": "3.8.10"
  }
 },
 "nbformat": 4,
 "nbformat_minor": 5
}
