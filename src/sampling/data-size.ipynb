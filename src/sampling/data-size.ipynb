{
 "cells": [
  {
   "cell_type": "code",
   "execution_count": 5,
   "id": "6c5c14b9",
   "metadata": {},
   "outputs": [],
   "source": [
    "import pandas as pd"
   ]
  },
  {
   "cell_type": "code",
   "execution_count": 6,
   "id": "1586454b",
   "metadata": {},
   "outputs": [],
   "source": [
    "def get_count_rows(filename):\n",
    "    res = pd.read_csv(filename, chunksize=2 * (10 ** 6))\n",
    "    count_rows = 0\n",
    "    for chunk in res:\n",
    "        count_rows += len(chunk.index)\n",
    "    return count_rows"
   ]
  },
  {
   "cell_type": "code",
   "execution_count": 7,
   "id": "2b4890d1",
   "metadata": {},
   "outputs": [
    {
     "name": "stderr",
     "output_type": "stream",
     "text": [
      "/tmp/ipykernel_13848/2299363256.py:4: DtypeWarning: Columns (85) have mixed types. Specify dtype option on import or set low_memory=False.\n",
      "  for chunk in res:\n"
     ]
    }
   ],
   "source": [
    "count1 = get_count_rows('../dataset/03-11/LDAP.csv')"
   ]
  },
  {
   "cell_type": "code",
   "execution_count": 8,
   "id": "8e9861d3",
   "metadata": {},
   "outputs": [
    {
     "name": "stdout",
     "output_type": "stream",
     "text": [
      "2113234\n"
     ]
    }
   ],
   "source": [
    "print(count1)"
   ]
  },
  {
   "cell_type": "code",
   "execution_count": null,
   "id": "9a809430",
   "metadata": {},
   "outputs": [],
   "source": []
  }
 ],
 "metadata": {
  "kernelspec": {
   "display_name": "Python 3 (ipykernel)",
   "language": "python",
   "name": "python3"
  },
  "language_info": {
   "codemirror_mode": {
    "name": "ipython",
    "version": 3
   },
   "file_extension": ".py",
   "mimetype": "text/x-python",
   "name": "python",
   "nbconvert_exporter": "python",
   "pygments_lexer": "ipython3",
   "version": "3.8.10"
  }
 },
 "nbformat": 4,
 "nbformat_minor": 5
}
