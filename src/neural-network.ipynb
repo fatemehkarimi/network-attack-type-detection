{
 "cells": [
  {
   "cell_type": "code",
   "execution_count": 1,
   "id": "f07fbf7a",
   "metadata": {},
   "outputs": [
    {
     "name": "stderr",
     "output_type": "stream",
     "text": [
      "2022-05-26 12:48:00.617989: W tensorflow/stream_executor/platform/default/dso_loader.cc:64] Could not load dynamic library 'libcudart.so.11.0'; dlerror: libcudart.so.11.0: cannot open shared object file: No such file or directory\n",
      "2022-05-26 12:48:00.618008: I tensorflow/stream_executor/cuda/cudart_stub.cc:29] Ignore above cudart dlerror if you do not have a GPU set up on your machine.\n"
     ]
    }
   ],
   "source": [
    "import pandas as pd\n",
    "import numpy as np\n",
    "import matplotlib.pyplot as plt\n",
    "import keras\n",
    "from keras.models import Sequential\n",
    "from keras.layers import Dense\n",
    "from sklearn.utils import shuffle\n",
    "from sklearn.model_selection import train_test_split\n",
    "from sklearn.preprocessing import StandardScaler, MinMaxScaler\n",
    "from sklearn.preprocessing import OneHotEncoder\n",
    "from sklearn.metrics import confusion_matrix, ConfusionMatrixDisplay\n",
    "from sklearn.metrics import accuracy_score\n",
    "from sklearn.metrics import precision_recall_fscore_support\n",
    "from sklearn.metrics import classification_report\n",
    "from metadata.const import features, class_label"
   ]
  },
  {
   "cell_type": "code",
   "execution_count": 2,
   "id": "3e0a9345",
   "metadata": {},
   "outputs": [
    {
     "data": {
      "text/html": [
       "<div>\n",
       "<style scoped>\n",
       "    .dataframe tbody tr th:only-of-type {\n",
       "        vertical-align: middle;\n",
       "    }\n",
       "\n",
       "    .dataframe tbody tr th {\n",
       "        vertical-align: top;\n",
       "    }\n",
       "\n",
       "    .dataframe thead th {\n",
       "        text-align: right;\n",
       "    }\n",
       "</style>\n",
       "<table border=\"1\" class=\"dataframe\">\n",
       "  <thead>\n",
       "    <tr style=\"text-align: right;\">\n",
       "      <th></th>\n",
       "      <th>Flow Duration</th>\n",
       "      <th>Total Fwd Packets</th>\n",
       "      <th>Total Length of Fwd Packets</th>\n",
       "      <th>Fwd Packet Length Max</th>\n",
       "      <th>Fwd Packet Length Min</th>\n",
       "      <th>Fwd Packet Length Std</th>\n",
       "      <th>Bwd Packet Length Max</th>\n",
       "      <th>Bwd Packet Length Min</th>\n",
       "      <th>Flow IAT Mean</th>\n",
       "      <th>Flow IAT Min</th>\n",
       "      <th>...</th>\n",
       "      <th>ACK Flag Count</th>\n",
       "      <th>URG Flag Count</th>\n",
       "      <th>CWE Flag Count</th>\n",
       "      <th>Down/Up Ratio</th>\n",
       "      <th>Init_Win_bytes_forward</th>\n",
       "      <th>Init_Win_bytes_backward</th>\n",
       "      <th>Active Mean</th>\n",
       "      <th>Active Std</th>\n",
       "      <th>Idle Std</th>\n",
       "      <th>Label</th>\n",
       "    </tr>\n",
       "  </thead>\n",
       "  <tbody>\n",
       "    <tr>\n",
       "      <th>0</th>\n",
       "      <td>1.0</td>\n",
       "      <td>2.0</td>\n",
       "      <td>2736.0</td>\n",
       "      <td>1368.0</td>\n",
       "      <td>1368.0</td>\n",
       "      <td>0.0</td>\n",
       "      <td>0.0</td>\n",
       "      <td>0.0</td>\n",
       "      <td>1.0</td>\n",
       "      <td>1.0</td>\n",
       "      <td>...</td>\n",
       "      <td>0.0</td>\n",
       "      <td>0.0</td>\n",
       "      <td>0.0</td>\n",
       "      <td>0.0</td>\n",
       "      <td>4.294967e+09</td>\n",
       "      <td>4.294967e+09</td>\n",
       "      <td>0.0</td>\n",
       "      <td>0.0</td>\n",
       "      <td>0.0</td>\n",
       "      <td>True</td>\n",
       "    </tr>\n",
       "    <tr>\n",
       "      <th>1</th>\n",
       "      <td>2.0</td>\n",
       "      <td>2.0</td>\n",
       "      <td>2544.0</td>\n",
       "      <td>1272.0</td>\n",
       "      <td>1272.0</td>\n",
       "      <td>0.0</td>\n",
       "      <td>0.0</td>\n",
       "      <td>0.0</td>\n",
       "      <td>2.0</td>\n",
       "      <td>2.0</td>\n",
       "      <td>...</td>\n",
       "      <td>0.0</td>\n",
       "      <td>0.0</td>\n",
       "      <td>0.0</td>\n",
       "      <td>0.0</td>\n",
       "      <td>4.294967e+09</td>\n",
       "      <td>4.294967e+09</td>\n",
       "      <td>0.0</td>\n",
       "      <td>0.0</td>\n",
       "      <td>0.0</td>\n",
       "      <td>True</td>\n",
       "    </tr>\n",
       "    <tr>\n",
       "      <th>2</th>\n",
       "      <td>1.0</td>\n",
       "      <td>2.0</td>\n",
       "      <td>2736.0</td>\n",
       "      <td>1368.0</td>\n",
       "      <td>1368.0</td>\n",
       "      <td>0.0</td>\n",
       "      <td>0.0</td>\n",
       "      <td>0.0</td>\n",
       "      <td>1.0</td>\n",
       "      <td>1.0</td>\n",
       "      <td>...</td>\n",
       "      <td>0.0</td>\n",
       "      <td>0.0</td>\n",
       "      <td>0.0</td>\n",
       "      <td>0.0</td>\n",
       "      <td>4.294967e+09</td>\n",
       "      <td>4.294967e+09</td>\n",
       "      <td>0.0</td>\n",
       "      <td>0.0</td>\n",
       "      <td>0.0</td>\n",
       "      <td>True</td>\n",
       "    </tr>\n",
       "    <tr>\n",
       "      <th>3</th>\n",
       "      <td>3.0</td>\n",
       "      <td>2.0</td>\n",
       "      <td>1040.0</td>\n",
       "      <td>520.0</td>\n",
       "      <td>520.0</td>\n",
       "      <td>0.0</td>\n",
       "      <td>0.0</td>\n",
       "      <td>0.0</td>\n",
       "      <td>3.0</td>\n",
       "      <td>3.0</td>\n",
       "      <td>...</td>\n",
       "      <td>0.0</td>\n",
       "      <td>0.0</td>\n",
       "      <td>0.0</td>\n",
       "      <td>0.0</td>\n",
       "      <td>4.294967e+09</td>\n",
       "      <td>4.294967e+09</td>\n",
       "      <td>0.0</td>\n",
       "      <td>0.0</td>\n",
       "      <td>0.0</td>\n",
       "      <td>True</td>\n",
       "    </tr>\n",
       "    <tr>\n",
       "      <th>4</th>\n",
       "      <td>1.0</td>\n",
       "      <td>2.0</td>\n",
       "      <td>2656.0</td>\n",
       "      <td>1328.0</td>\n",
       "      <td>1328.0</td>\n",
       "      <td>0.0</td>\n",
       "      <td>0.0</td>\n",
       "      <td>0.0</td>\n",
       "      <td>1.0</td>\n",
       "      <td>1.0</td>\n",
       "      <td>...</td>\n",
       "      <td>0.0</td>\n",
       "      <td>0.0</td>\n",
       "      <td>0.0</td>\n",
       "      <td>0.0</td>\n",
       "      <td>4.294967e+09</td>\n",
       "      <td>4.294967e+09</td>\n",
       "      <td>0.0</td>\n",
       "      <td>0.0</td>\n",
       "      <td>0.0</td>\n",
       "      <td>True</td>\n",
       "    </tr>\n",
       "  </tbody>\n",
       "</table>\n",
       "<p>5 rows × 28 columns</p>\n",
       "</div>"
      ],
      "text/plain": [
       "    Flow Duration   Total Fwd Packets  Total Length of Fwd Packets  \\\n",
       "0             1.0                 2.0                       2736.0   \n",
       "1             2.0                 2.0                       2544.0   \n",
       "2             1.0                 2.0                       2736.0   \n",
       "3             3.0                 2.0                       1040.0   \n",
       "4             1.0                 2.0                       2656.0   \n",
       "\n",
       "    Fwd Packet Length Max   Fwd Packet Length Min   Fwd Packet Length Std  \\\n",
       "0                  1368.0                  1368.0                     0.0   \n",
       "1                  1272.0                  1272.0                     0.0   \n",
       "2                  1368.0                  1368.0                     0.0   \n",
       "3                   520.0                   520.0                     0.0   \n",
       "4                  1328.0                  1328.0                     0.0   \n",
       "\n",
       "   Bwd Packet Length Max   Bwd Packet Length Min   Flow IAT Mean  \\\n",
       "0                    0.0                     0.0             1.0   \n",
       "1                    0.0                     0.0             2.0   \n",
       "2                    0.0                     0.0             1.0   \n",
       "3                    0.0                     0.0             3.0   \n",
       "4                    0.0                     0.0             1.0   \n",
       "\n",
       "    Flow IAT Min  ...   ACK Flag Count   URG Flag Count   CWE Flag Count  \\\n",
       "0            1.0  ...              0.0              0.0              0.0   \n",
       "1            2.0  ...              0.0              0.0              0.0   \n",
       "2            1.0  ...              0.0              0.0              0.0   \n",
       "3            3.0  ...              0.0              0.0              0.0   \n",
       "4            1.0  ...              0.0              0.0              0.0   \n",
       "\n",
       "    Down/Up Ratio  Init_Win_bytes_forward   Init_Win_bytes_backward  \\\n",
       "0             0.0            4.294967e+09              4.294967e+09   \n",
       "1             0.0            4.294967e+09              4.294967e+09   \n",
       "2             0.0            4.294967e+09              4.294967e+09   \n",
       "3             0.0            4.294967e+09              4.294967e+09   \n",
       "4             0.0            4.294967e+09              4.294967e+09   \n",
       "\n",
       "   Active Mean   Active Std   Idle Std   Label  \n",
       "0          0.0          0.0        0.0    True  \n",
       "1          0.0          0.0        0.0    True  \n",
       "2          0.0          0.0        0.0    True  \n",
       "3          0.0          0.0        0.0    True  \n",
       "4          0.0          0.0        0.0    True  \n",
       "\n",
       "[5 rows x 28 columns]"
      ]
     },
     "execution_count": 2,
     "metadata": {},
     "output_type": "execute_result"
    }
   ],
   "source": [
    "df = pd.read_csv('dataset/clean-sample-200000.csv')\n",
    "df.head()"
   ]
  },
  {
   "cell_type": "code",
   "execution_count": 3,
   "id": "445ebbc6",
   "metadata": {},
   "outputs": [],
   "source": [
    "selected_features = [features['fwd_packet_len_min'], features['ack_flag_count'], features['init_win_bytes_fwd'],\n",
    "                     features['total_fwd_packets'], features['idle_std']]\n",
    "# X = df.drop(class_label, axis=1).values\n",
    "X = df[selected_features]\n",
    "Y = df[class_label].values"
   ]
  },
  {
   "cell_type": "code",
   "execution_count": 4,
   "id": "63fb210a",
   "metadata": {},
   "outputs": [],
   "source": [
    "# scaler = StandardScaler()\n",
    "scaler = MinMaxScaler()\n",
    "X = scaler.fit_transform(X)"
   ]
  },
  {
   "cell_type": "code",
   "execution_count": 5,
   "id": "aff6ac0d",
   "metadata": {},
   "outputs": [],
   "source": [
    "one_hot_encoder = OneHotEncoder()\n",
    "Y = one_hot_encoder.fit_transform(Y.reshape(-1, 1)).toarray()"
   ]
  },
  {
   "cell_type": "code",
   "execution_count": 6,
   "id": "64859636",
   "metadata": {},
   "outputs": [],
   "source": [
    "X_train, X_test, Y_train, Y_test = train_test_split(X, Y, test_size=0.2)"
   ]
  },
  {
   "cell_type": "code",
   "execution_count": 7,
   "id": "2056faf7",
   "metadata": {},
   "outputs": [
    {
     "name": "stderr",
     "output_type": "stream",
     "text": [
      "2022-05-26 12:48:30.042039: W tensorflow/stream_executor/platform/default/dso_loader.cc:64] Could not load dynamic library 'libcuda.so.1'; dlerror: libcuda.so.1: cannot open shared object file: No such file or directory\n",
      "2022-05-26 12:48:30.042061: W tensorflow/stream_executor/cuda/cuda_driver.cc:269] failed call to cuInit: UNKNOWN ERROR (303)\n",
      "2022-05-26 12:48:30.042078: I tensorflow/stream_executor/cuda/cuda_diagnostics.cc:156] kernel driver does not appear to be running on this host (fatemeh): /proc/driver/nvidia/version does not exist\n",
      "2022-05-26 12:48:30.052427: I tensorflow/core/platform/cpu_feature_guard.cc:151] This TensorFlow binary is optimized with oneAPI Deep Neural Network Library (oneDNN) to use the following CPU instructions in performance-critical operations:  AVX2 FMA\n",
      "To enable them in other operations, rebuild TensorFlow with the appropriate compiler flags.\n"
     ]
    }
   ],
   "source": [
    "model = Sequential()\n",
    "model.add(Dense(5, input_dim=len(df[selected_features].columns), activation='relu'))\n",
    "model.add(Dense(2, activation='softmax'))"
   ]
  },
  {
   "cell_type": "code",
   "execution_count": 8,
   "id": "d98f438d",
   "metadata": {},
   "outputs": [],
   "source": [
    "model.compile(loss='categorical_crossentropy',\n",
    "              optimizer='adam', metrics=['binary_accuracy'])"
   ]
  },
  {
   "cell_type": "code",
   "execution_count": 9,
   "id": "fae3f6c2",
   "metadata": {},
   "outputs": [
    {
     "name": "stdout",
     "output_type": "stream",
     "text": [
      "Epoch 1/40\n",
      "4312/4312 [==============================] - 8s 1ms/step - loss: 0.2720 - binary_accuracy: 0.9225\n",
      "Epoch 2/40\n",
      "4312/4312 [==============================] - 5s 1ms/step - loss: 0.0542 - binary_accuracy: 0.9859\n",
      "Epoch 3/40\n",
      "4312/4312 [==============================] - 5s 1ms/step - loss: 0.0359 - binary_accuracy: 0.9872\n",
      "Epoch 4/40\n",
      "4312/4312 [==============================] - 6s 1ms/step - loss: 0.0300 - binary_accuracy: 0.9886\n",
      "Epoch 5/40\n",
      "4312/4312 [==============================] - 6s 1ms/step - loss: 0.0268 - binary_accuracy: 0.9896\n",
      "Epoch 6/40\n",
      "4312/4312 [==============================] - 6s 1ms/step - loss: 0.0247 - binary_accuracy: 0.9910\n",
      "Epoch 7/40\n",
      "4312/4312 [==============================] - 5s 1ms/step - loss: 0.0231 - binary_accuracy: 0.9935\n",
      "Epoch 8/40\n",
      "4312/4312 [==============================] - 5s 1ms/step - loss: 0.0220 - binary_accuracy: 0.9946\n",
      "Epoch 9/40\n",
      "4312/4312 [==============================] - 6s 1ms/step - loss: 0.0211 - binary_accuracy: 0.9951\n",
      "Epoch 10/40\n",
      "4312/4312 [==============================] - 7s 2ms/step - loss: 0.0204 - binary_accuracy: 0.9952\n",
      "Epoch 11/40\n",
      "4312/4312 [==============================] - 6s 1ms/step - loss: 0.0198 - binary_accuracy: 0.9954\n",
      "Epoch 12/40\n",
      "4312/4312 [==============================] - 5s 1ms/step - loss: 0.0193 - binary_accuracy: 0.9956\n",
      "Epoch 13/40\n",
      "4312/4312 [==============================] - 6s 1ms/step - loss: 0.0189 - binary_accuracy: 0.9958\n",
      "Epoch 14/40\n",
      "4312/4312 [==============================] - 5s 1ms/step - loss: 0.0185 - binary_accuracy: 0.9959\n",
      "Epoch 15/40\n",
      "4312/4312 [==============================] - 5s 1ms/step - loss: 0.0182 - binary_accuracy: 0.9961\n",
      "Epoch 16/40\n",
      "4312/4312 [==============================] - 6s 1ms/step - loss: 0.0179 - binary_accuracy: 0.9963\n",
      "Epoch 17/40\n",
      "4312/4312 [==============================] - 6s 1ms/step - loss: 0.0177 - binary_accuracy: 0.9964\n",
      "Epoch 18/40\n",
      "4312/4312 [==============================] - 5s 1ms/step - loss: 0.0175 - binary_accuracy: 0.9965\n",
      "Epoch 19/40\n",
      "4312/4312 [==============================] - 6s 1ms/step - loss: 0.0174 - binary_accuracy: 0.9966\n",
      "Epoch 20/40\n",
      "4312/4312 [==============================] - 5s 1ms/step - loss: 0.0172 - binary_accuracy: 0.9966\n",
      "Epoch 21/40\n",
      "4312/4312 [==============================] - 5s 1ms/step - loss: 0.0171 - binary_accuracy: 0.9966\n",
      "Epoch 22/40\n",
      "4312/4312 [==============================] - 5s 1ms/step - loss: 0.0170 - binary_accuracy: 0.9967\n",
      "Epoch 23/40\n",
      "4312/4312 [==============================] - 6s 1ms/step - loss: 0.0169 - binary_accuracy: 0.9968\n",
      "Epoch 24/40\n",
      "4312/4312 [==============================] - 5s 1ms/step - loss: 0.0168 - binary_accuracy: 0.9968\n",
      "Epoch 25/40\n",
      "4312/4312 [==============================] - 6s 1ms/step - loss: 0.0167 - binary_accuracy: 0.9968\n",
      "Epoch 26/40\n",
      "4312/4312 [==============================] - 6s 1ms/step - loss: 0.0166 - binary_accuracy: 0.9968\n",
      "Epoch 27/40\n",
      "4312/4312 [==============================] - 4s 1ms/step - loss: 0.0165 - binary_accuracy: 0.9969\n",
      "Epoch 28/40\n",
      "4312/4312 [==============================] - 5s 1ms/step - loss: 0.0164 - binary_accuracy: 0.9969\n",
      "Epoch 29/40\n",
      "4312/4312 [==============================] - 6s 1ms/step - loss: 0.0163 - binary_accuracy: 0.9969\n",
      "Epoch 30/40\n",
      "4312/4312 [==============================] - 5s 1ms/step - loss: 0.0163 - binary_accuracy: 0.9969\n",
      "Epoch 31/40\n",
      "4312/4312 [==============================] - 5s 1ms/step - loss: 0.0161 - binary_accuracy: 0.9970\n",
      "Epoch 32/40\n",
      "4312/4312 [==============================] - 4s 992us/step - loss: 0.0161 - binary_accuracy: 0.9970\n",
      "Epoch 33/40\n",
      "4312/4312 [==============================] - 4s 956us/step - loss: 0.0160 - binary_accuracy: 0.9970\n",
      "Epoch 34/40\n",
      "4312/4312 [==============================] - 5s 1ms/step - loss: 0.0160 - binary_accuracy: 0.9969\n",
      "Epoch 35/40\n",
      "4312/4312 [==============================] - 4s 1ms/step - loss: 0.0160 - binary_accuracy: 0.9969\n",
      "Epoch 36/40\n",
      "4312/4312 [==============================] - 5s 1ms/step - loss: 0.0159 - binary_accuracy: 0.9969\n",
      "Epoch 37/40\n",
      "4312/4312 [==============================] - 4s 977us/step - loss: 0.0159 - binary_accuracy: 0.9969\n",
      "Epoch 38/40\n",
      "4312/4312 [==============================] - 5s 1ms/step - loss: 0.0158 - binary_accuracy: 0.9969\n",
      "Epoch 39/40\n",
      "4312/4312 [==============================] - 5s 1ms/step - loss: 0.0157 - binary_accuracy: 0.9969\n",
      "Epoch 40/40\n",
      "4312/4312 [==============================] - 5s 1ms/step - loss: 0.0158 - binary_accuracy: 0.9970\n"
     ]
    }
   ],
   "source": [
    "history = model.fit(X_train, Y_train, epochs=40, batch_size=32)"
   ]
  },
  {
   "cell_type": "code",
   "execution_count": 10,
   "id": "82e0b042",
   "metadata": {},
   "outputs": [],
   "source": [
    "Y_pred = model.predict(X_test)\n",
    "pred = list()\n",
    "for i in range(len(Y_pred)):\n",
    "    pred.append(np.argmax(Y_pred[i]))\n",
    "test = list()\n",
    "for i in range(len(Y_test)):\n",
    "    test.append(np.argmax(Y_test[i]))"
   ]
  },
  {
   "cell_type": "code",
   "execution_count": 11,
   "id": "8a709a11",
   "metadata": {},
   "outputs": [
    {
     "data": {
      "text/plain": [
       "<sklearn.metrics._plot.confusion_matrix.ConfusionMatrixDisplay at 0x7ff9232c84c0>"
      ]
     },
     "execution_count": 11,
     "metadata": {},
     "output_type": "execute_result"
    },
    {
     "data": {
      "image/png": "[encoded data removed]",
      "text/plain": [
       "<Figure size 432x288 with 2 Axes>"
      ]
     },
     "metadata": {
      "needs_background": "light"
     },
     "output_type": "display_data"
    }
   ],
   "source": [
    "cm = confusion_matrix(test, pred)\n",
    "cmd = ConfusionMatrixDisplay(cm, display_labels=['benign', 'attack'])\n",
    "cmd.plot()"
   ]
  },
  {
   "cell_type": "code",
   "execution_count": 12,
   "id": "d2edaca2",
   "metadata": {},
   "outputs": [
    {
     "name": "stdout",
     "output_type": "stream",
     "text": [
      "              precision    recall  f1-score   support\n",
      "\n",
      "           0       1.00      0.99      1.00     17445\n",
      "           1       0.99      1.00      1.00     17047\n",
      "\n",
      "    accuracy                           1.00     34492\n",
      "   macro avg       1.00      1.00      1.00     34492\n",
      "weighted avg       1.00      1.00      1.00     34492\n",
      "\n"
     ]
    }
   ],
   "source": [
    "print(classification_report(test, pred))"
   ]
  },
  {
   "cell_type": "code",
   "execution_count": null,
   "id": "3fd6c642",
   "metadata": {},
   "outputs": [],
   "source": []
  }
 ],
 "metadata": {
  "kernelspec": {
   "display_name": "Python 3 (ipykernel)",
   "language": "python",
   "name": "python3"
  },
  "language_info": {
   "codemirror_mode": {
    "name": "ipython",
    "version": 3
   },
   "file_extension": ".py",
   "mimetype": "text/x-python",
   "name": "python",
   "nbconvert_exporter": "python",
   "pygments_lexer": "ipython3",
   "version": "3.8.10"
  }
 },
 "nbformat": 4,
 "nbformat_minor": 5
}
