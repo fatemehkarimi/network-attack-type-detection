{
 "cells": [
  {
   "cell_type": "code",
   "execution_count": 1,
   "id": "2519eb8f",
   "metadata": {},
   "outputs": [],
   "source": [
    "import pandas as pd"
   ]
  },
  {
   "cell_type": "code",
   "execution_count": 2,
   "id": "467a3c30",
   "metadata": {},
   "outputs": [],
   "source": [
    "def get_count_rows(filename):\n",
    "    res = pd.read_csv(filename, chunksize=(10 ** 6))\n",
    "    count_rows = 0\n",
    "    for chunk in res:\n",
    "        count_rows += len(chunk.index)\n",
    "    return count_rows"
   ]
  },
  {
   "cell_type": "code",
   "execution_count": 3,
   "id": "b6dc8467",
   "metadata": {},
   "outputs": [],
   "source": [
    "def join_label_frequency(labels1, labels2):\n",
    "    result = {key: labels1[key] for key in labels1.keys()}\n",
    "    for key in labels2.keys():\n",
    "        if key not in result:\n",
    "            result[key] = labels2[key]\n",
    "        else:\n",
    "            result[key] += labels2[key]\n",
    "    return result"
   ]
  },
  {
   "cell_type": "code",
   "execution_count": 4,
   "id": "ca2b8b5c",
   "metadata": {},
   "outputs": [],
   "source": [
    "def get_label_frequency(filename):\n",
    "    labels = {}\n",
    "    res = pd.read_csv(filename, chunksize=(10 ** 6))\n",
    "    for chunk in res:\n",
    "        chunk_labels = chunk[' Label'].value_counts().to_dict()\n",
    "        labels = join_label_frequency(labels, chunk_labels)\n",
    "    return labels"
   ]
  },
  {
   "cell_type": "code",
   "execution_count": 5,
   "id": "e615ed51",
   "metadata": {},
   "outputs": [
    {
     "name": "stderr",
     "output_type": "stream",
     "text": [
      "/tmp/ipykernel_6669/2616902257.py:4: DtypeWarning: Columns (85) have mixed types. Specify dtype option on import or set low_memory=False.\n",
      "  for chunk in res:\n",
      "/tmp/ipykernel_6669/2616902257.py:4: DtypeWarning: Columns (85) have mixed types. Specify dtype option on import or set low_memory=False.\n",
      "  for chunk in res:\n",
      "/tmp/ipykernel_6669/2616902257.py:4: DtypeWarning: Columns (85) have mixed types. Specify dtype option on import or set low_memory=False.\n",
      "  for chunk in res:\n",
      "/tmp/ipykernel_6669/2616902257.py:4: DtypeWarning: Columns (85) have mixed types. Specify dtype option on import or set low_memory=False.\n",
      "  for chunk in res:\n",
      "/tmp/ipykernel_6669/2616902257.py:4: DtypeWarning: Columns (85) have mixed types. Specify dtype option on import or set low_memory=False.\n",
      "  for chunk in res:\n",
      "/tmp/ipykernel_6669/2616902257.py:4: DtypeWarning: Columns (85) have mixed types. Specify dtype option on import or set low_memory=False.\n",
      "  for chunk in res:\n",
      "/tmp/ipykernel_6669/2616902257.py:4: DtypeWarning: Columns (85) have mixed types. Specify dtype option on import or set low_memory=False.\n",
      "  for chunk in res:\n",
      "/tmp/ipykernel_6669/2616902257.py:4: DtypeWarning: Columns (85) have mixed types. Specify dtype option on import or set low_memory=False.\n",
      "  for chunk in res:\n",
      "/tmp/ipykernel_6669/2616902257.py:4: DtypeWarning: Columns (85) have mixed types. Specify dtype option on import or set low_memory=False.\n",
      "  for chunk in res:\n",
      "/tmp/ipykernel_6669/2616902257.py:4: DtypeWarning: Columns (85) have mixed types. Specify dtype option on import or set low_memory=False.\n",
      "  for chunk in res:\n",
      "/tmp/ipykernel_6669/2616902257.py:4: DtypeWarning: Columns (85) have mixed types. Specify dtype option on import or set low_memory=False.\n",
      "  for chunk in res:\n",
      "/tmp/ipykernel_6669/2616902257.py:4: DtypeWarning: Columns (85) have mixed types. Specify dtype option on import or set low_memory=False.\n",
      "  for chunk in res:\n",
      "/tmp/ipykernel_6669/2616902257.py:4: DtypeWarning: Columns (85) have mixed types. Specify dtype option on import or set low_memory=False.\n",
      "  for chunk in res:\n",
      "/tmp/ipykernel_6669/2616902257.py:4: DtypeWarning: Columns (85) have mixed types. Specify dtype option on import or set low_memory=False.\n",
      "  for chunk in res:\n",
      "/tmp/ipykernel_6669/2616902257.py:4: DtypeWarning: Columns (85) have mixed types. Specify dtype option on import or set low_memory=False.\n",
      "  for chunk in res:\n",
      "/tmp/ipykernel_6669/2616902257.py:4: DtypeWarning: Columns (85) have mixed types. Specify dtype option on import or set low_memory=False.\n",
      "  for chunk in res:\n",
      "/tmp/ipykernel_6669/2616902257.py:4: DtypeWarning: Columns (85) have mixed types. Specify dtype option on import or set low_memory=False.\n",
      "  for chunk in res:\n",
      "/tmp/ipykernel_6669/2616902257.py:4: DtypeWarning: Columns (85) have mixed types. Specify dtype option on import or set low_memory=False.\n",
      "  for chunk in res:\n",
      "/tmp/ipykernel_6669/2616902257.py:4: DtypeWarning: Columns (85) have mixed types. Specify dtype option on import or set low_memory=False.\n",
      "  for chunk in res:\n",
      "/tmp/ipykernel_6669/2616902257.py:4: DtypeWarning: Columns (85) have mixed types. Specify dtype option on import or set low_memory=False.\n",
      "  for chunk in res:\n",
      "/tmp/ipykernel_6669/2616902257.py:4: DtypeWarning: Columns (85) have mixed types. Specify dtype option on import or set low_memory=False.\n",
      "  for chunk in res:\n",
      "/tmp/ipykernel_6669/2616902257.py:4: DtypeWarning: Columns (85) have mixed types. Specify dtype option on import or set low_memory=False.\n",
      "  for chunk in res:\n"
     ]
    },
    {
     "name": "stdout",
     "output_type": "stream",
     "text": [
      "{'LDAP': 1915122, 'NetBIOS': 3657497, 'BENIGN': 56965, 'MSSQL': 5787453, 'Portmap': 186960, 'Syn': 4891500, 'UDP': 3867155, 'UDPLag': 1873}\n"
     ]
    }
   ],
   "source": [
    "labels = get_label_frequency('../dataset/03-11/LDAP.csv')\n",
    "labels = join_label_frequency(labels, get_label_frequency('../dataset/03-11/MSSQL.csv'))\n",
    "labels = join_label_frequency(labels, get_label_frequency('../dataset/03-11/NetBIOS.csv'))\n",
    "labels = join_label_frequency(labels, get_label_frequency('../dataset/03-11/Portmap.csv'))\n",
    "labels = join_label_frequency(labels, get_label_frequency('../dataset/03-11/Syn.csv'))\n",
    "labels = join_label_frequency(labels, get_label_frequency('../dataset/03-11/UDP.csv'))\n",
    "labels = join_label_frequency(labels, get_label_frequency('../dataset/03-11/UDPLag.csv'))\n",
    "print(labels)"
   ]
  },
  {
   "cell_type": "code",
   "execution_count": 6,
   "id": "65e9b5c7",
   "metadata": {},
   "outputs": [
    {
     "name": "stderr",
     "output_type": "stream",
     "text": [
      "/tmp/ipykernel_6669/893618011.py:4: DtypeWarning: Columns (85) have mixed types. Specify dtype option on import or set low_memory=False.\n",
      "  for chunk in res:\n",
      "/tmp/ipykernel_6669/893618011.py:4: DtypeWarning: Columns (85) have mixed types. Specify dtype option on import or set low_memory=False.\n",
      "  for chunk in res:\n",
      "/tmp/ipykernel_6669/893618011.py:4: DtypeWarning: Columns (85) have mixed types. Specify dtype option on import or set low_memory=False.\n",
      "  for chunk in res:\n",
      "/tmp/ipykernel_6669/893618011.py:4: DtypeWarning: Columns (85) have mixed types. Specify dtype option on import or set low_memory=False.\n",
      "  for chunk in res:\n",
      "/tmp/ipykernel_6669/893618011.py:4: DtypeWarning: Columns (85) have mixed types. Specify dtype option on import or set low_memory=False.\n",
      "  for chunk in res:\n",
      "/tmp/ipykernel_6669/893618011.py:4: DtypeWarning: Columns (85) have mixed types. Specify dtype option on import or set low_memory=False.\n",
      "  for chunk in res:\n",
      "/tmp/ipykernel_6669/893618011.py:4: DtypeWarning: Columns (85) have mixed types. Specify dtype option on import or set low_memory=False.\n",
      "  for chunk in res:\n",
      "/tmp/ipykernel_6669/893618011.py:4: DtypeWarning: Columns (85) have mixed types. Specify dtype option on import or set low_memory=False.\n",
      "  for chunk in res:\n",
      "/tmp/ipykernel_6669/893618011.py:4: DtypeWarning: Columns (85) have mixed types. Specify dtype option on import or set low_memory=False.\n",
      "  for chunk in res:\n",
      "/tmp/ipykernel_6669/893618011.py:4: DtypeWarning: Columns (85) have mixed types. Specify dtype option on import or set low_memory=False.\n",
      "  for chunk in res:\n",
      "/tmp/ipykernel_6669/893618011.py:4: DtypeWarning: Columns (85) have mixed types. Specify dtype option on import or set low_memory=False.\n",
      "  for chunk in res:\n",
      "/tmp/ipykernel_6669/893618011.py:4: DtypeWarning: Columns (85) have mixed types. Specify dtype option on import or set low_memory=False.\n",
      "  for chunk in res:\n",
      "/tmp/ipykernel_6669/893618011.py:4: DtypeWarning: Columns (85) have mixed types. Specify dtype option on import or set low_memory=False.\n",
      "  for chunk in res:\n",
      "/tmp/ipykernel_6669/893618011.py:4: DtypeWarning: Columns (85) have mixed types. Specify dtype option on import or set low_memory=False.\n",
      "  for chunk in res:\n",
      "/tmp/ipykernel_6669/893618011.py:4: DtypeWarning: Columns (85) have mixed types. Specify dtype option on import or set low_memory=False.\n",
      "  for chunk in res:\n",
      "/tmp/ipykernel_6669/893618011.py:4: DtypeWarning: Columns (85) have mixed types. Specify dtype option on import or set low_memory=False.\n",
      "  for chunk in res:\n",
      "/tmp/ipykernel_6669/893618011.py:4: DtypeWarning: Columns (85) have mixed types. Specify dtype option on import or set low_memory=False.\n",
      "  for chunk in res:\n",
      "/tmp/ipykernel_6669/893618011.py:4: DtypeWarning: Columns (85) have mixed types. Specify dtype option on import or set low_memory=False.\n",
      "  for chunk in res:\n",
      "/tmp/ipykernel_6669/893618011.py:4: DtypeWarning: Columns (85) have mixed types. Specify dtype option on import or set low_memory=False.\n",
      "  for chunk in res:\n",
      "/tmp/ipykernel_6669/893618011.py:4: DtypeWarning: Columns (85) have mixed types. Specify dtype option on import or set low_memory=False.\n",
      "  for chunk in res:\n",
      "/tmp/ipykernel_6669/893618011.py:4: DtypeWarning: Columns (85) have mixed types. Specify dtype option on import or set low_memory=False.\n",
      "  for chunk in res:\n",
      "/tmp/ipykernel_6669/893618011.py:4: DtypeWarning: Columns (85) have mixed types. Specify dtype option on import or set low_memory=False.\n",
      "  for chunk in res:\n"
     ]
    }
   ],
   "source": [
    "count_rows = get_count_rows('../dataset/03-11/LDAP.csv')\n",
    "count_rows += get_count_rows('../dataset/03-11/MSSQL.csv')\n",
    "count_rows += get_count_rows('../dataset/03-11/NetBIOS.csv')\n",
    "count_rows += get_count_rows('../dataset/03-11/Portmap.csv')\n",
    "count_rows += get_count_rows('../dataset/03-11/Syn.csv')\n",
    "count_rows += get_count_rows('../dataset/03-11/UDP.csv')\n",
    "count_rows += get_count_rows('../dataset/03-11/UDPLag.csv')"
   ]
  },
  {
   "cell_type": "code",
   "execution_count": 7,
   "id": "9dfa18d3",
   "metadata": {},
   "outputs": [
    {
     "name": "stdout",
     "output_type": "stream",
     "text": [
      "20364525\n"
     ]
    }
   ],
   "source": [
    "print(count_rows)"
   ]
  },
  {
   "cell_type": "code",
   "execution_count": 8,
   "id": "7c6663ad",
   "metadata": {},
   "outputs": [],
   "source": [
    "import json\n",
    "result = {\n",
    "    \"labels\": labels,\n",
    "    \"total\": count_rows\n",
    "}\n",
    "with open(\"label_frequency.json\", \"w\") as f:\n",
    "    json.dump(result, f, indent=4)"
   ]
  },
  {
   "cell_type": "code",
   "execution_count": 5,
   "id": "15c84c6e",
   "metadata": {},
   "outputs": [
    {
     "name": "stderr",
     "output_type": "stream",
     "text": [
      "/tmp/ipykernel_9867/2616902257.py:4: DtypeWarning: Columns (87) have mixed types. Specify dtype option on import or set low_memory=False.\n",
      "  for chunk in res:\n",
      "/tmp/ipykernel_9867/2616902257.py:4: DtypeWarning: Columns (87) have mixed types. Specify dtype option on import or set low_memory=False.\n",
      "  for chunk in res:\n"
     ]
    },
    {
     "name": "stdout",
     "output_type": "stream",
     "text": [
      "{'MSSQL': 568391, 'NetBIOS': 359204, 'LDAP': 188088, 'BENIGN': 5615, 'Syn': 480392, 'UDP': 379799, 'Portmap': 18362, 'UDPLag': 184}\n"
     ]
    }
   ],
   "source": [
    "labels = get_label_frequency('../dataset/clean-sample.csv')\n",
    "print(labels)"
   ]
  },
  {
   "cell_type": "code",
   "execution_count": null,
   "id": "9b014cef",
   "metadata": {},
   "outputs": [],
   "source": []
  }
 ],
 "metadata": {
  "kernelspec": {
   "display_name": "Python 3 (ipykernel)",
   "language": "python",
   "name": "python3"
  },
  "language_info": {
   "codemirror_mode": {
    "name": "ipython",
    "version": 3
   },
   "file_extension": ".py",
   "mimetype": "text/x-python",
   "name": "python",
   "nbconvert_exporter": "python",
   "pygments_lexer": "ipython3",
   "version": "3.8.10"
  }
 },
 "nbformat": 4,
 "nbformat_minor": 5
}
