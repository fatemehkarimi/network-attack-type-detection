{
 "cells": [
  {
   "cell_type": "code",
   "execution_count": 1,
   "id": "2519eb8f",
   "metadata": {},
   "outputs": [],
   "source": [
    "import json\n",
    "import pandas as pd\n",
    "import configparser\n",
    "from metadata.const import class_label"
   ]
  },
  {
   "cell_type": "code",
   "execution_count": 2,
   "id": "7ce340af",
   "metadata": {},
   "outputs": [],
   "source": [
    "config = configparser.RawConfigParser()\n",
    "config.read('../settings.ini')\n",
    "data_config = dict(config.items('DATA'))\n",
    "chunk_size = int(data_config['chunk_size'])"
   ]
  },
  {
   "cell_type": "code",
   "execution_count": 3,
   "id": "467a3c30",
   "metadata": {},
   "outputs": [],
   "source": [
    "def get_count_rows(filename):\n",
    "    res = pd.read_csv(filename, chunksize=chunk_size, low_memory=False)\n",
    "    count_rows = 0\n",
    "    for chunk in res:\n",
    "        count_rows += len(chunk.index)\n",
    "    return count_rows"
   ]
  },
  {
   "cell_type": "code",
   "execution_count": 4,
   "id": "b6dc8467",
   "metadata": {},
   "outputs": [],
   "source": [
    "def join_label_frequency(labels1, labels2):\n",
    "    result = {key: labels1[key] for key in labels1.keys()}\n",
    "    for key in labels2.keys():\n",
    "        if key not in result:\n",
    "            result[key] = labels2[key]\n",
    "        else:\n",
    "            result[key] += labels2[key]\n",
    "    return result"
   ]
  },
  {
   "cell_type": "code",
   "execution_count": 5,
   "id": "ca2b8b5c",
   "metadata": {},
   "outputs": [],
   "source": [
    "def get_label_frequency(filename):\n",
    "    labels = {}\n",
    "    res = pd.read_csv(filename, chunksize=chunk_size, low_memory=False)\n",
    "    for chunk in res:\n",
    "        chunk_labels = chunk[class_label].value_counts().to_dict()\n",
    "        labels = join_label_frequency(labels, chunk_labels)\n",
    "    return labels"
   ]
  },
  {
   "cell_type": "code",
   "execution_count": 6,
   "id": "e615ed51",
   "metadata": {},
   "outputs": [
    {
     "name": "stdout",
     "output_type": "stream",
     "text": [
      "{'LDAP': 1915122, 'NetBIOS': 3657497, 'BENIGN': 56965, 'MSSQL': 5787453, 'Portmap': 186960, 'Syn': 4891500, 'UDP': 3867155, 'UDPLag': 1873}\n"
     ]
    }
   ],
   "source": [
    "data_files = ['../dataset/03-11/LDAP.csv', '../dataset/03-11/MSSQL.csv', '../dataset/03-11/NetBIOS.csv',\n",
    "              '../dataset/03-11/Portmap.csv', '../dataset/03-11/Syn.csv', '../dataset/03-11/UDP.csv',\n",
    "              '../dataset/03-11/UDPLag.csv']\n",
    "labels = {}\n",
    "for file in data_files:\n",
    "    labels = join_label_frequency(labels, get_label_frequency(file))\n",
    "print(labels)"
   ]
  },
  {
   "cell_type": "code",
   "execution_count": 7,
   "id": "65e9b5c7",
   "metadata": {},
   "outputs": [
    {
     "name": "stdout",
     "output_type": "stream",
     "text": [
      "20364525\n"
     ]
    }
   ],
   "source": [
    "count_rows = 0\n",
    "for file in data_files:\n",
    "    count_rows += get_count_rows(file)\n",
    "print(count_rows)"
   ]
  },
  {
   "cell_type": "code",
   "execution_count": 6,
   "id": "7c6663ad",
   "metadata": {},
   "outputs": [],
   "source": [
    "def display_as_json(labels_freq, count_rows, filename):\n",
    "    result = {\n",
    "        \"labels\": labels_freq,\n",
    "        \"total\": count_rows\n",
    "    }\n",
    "    with open(filename, \"w\") as f:\n",
    "        json.dump(result, f, indent=4)"
   ]
  },
  {
   "cell_type": "code",
   "execution_count": 7,
   "id": "40a29cf8",
   "metadata": {},
   "outputs": [
    {
     "ename": "NameError",
     "evalue": "name 'labels' is not defined",
     "output_type": "error",
     "traceback": [
      "\u001b[0;31m---------------------------------------------------------------------------\u001b[0m",
      "\u001b[0;31mNameError\u001b[0m                                 Traceback (most recent call last)",
      "Input \u001b[0;32mIn [7]\u001b[0m, in \u001b[0;36m<cell line: 1>\u001b[0;34m()\u001b[0m\n\u001b[0;32m----> 1\u001b[0m display_as_json(\u001b[43mlabels\u001b[49m, count_rows, \u001b[38;5;124m'\u001b[39m\u001b[38;5;124mlabel_frequency.json\u001b[39m\u001b[38;5;124m'\u001b[39m)\n",
      "\u001b[0;31mNameError\u001b[0m: name 'labels' is not defined"
     ]
    }
   ],
   "source": [
    "display_as_json(labels, count_rows, 'label_frequency.json')"
   ]
  },
  {
   "cell_type": "code",
   "execution_count": 8,
   "id": "15c84c6e",
   "metadata": {},
   "outputs": [],
   "source": [
    "sample_file = '../dataset/clean-sample-200000.csv'\n",
    "sample_labels = get_label_frequency(sample_file)\n",
    "sample_count_rows = get_count_rows(sample_file)\n",
    "display_as_json(sample_labels, sample_count_rows, 'sample_label_frequency.json')"
   ]
  },
  {
   "cell_type": "code",
   "execution_count": null,
   "id": "9b014cef",
   "metadata": {},
   "outputs": [],
   "source": []
  }
 ],
 "metadata": {
  "kernelspec": {
   "display_name": "Python 3 (ipykernel)",
   "language": "python",
   "name": "python3"
  },
  "language_info": {
   "codemirror_mode": {
    "name": "ipython",
    "version": 3
   },
   "file_extension": ".py",
   "mimetype": "text/x-python",
   "name": "python",
   "nbconvert_exporter": "python",
   "pygments_lexer": "ipython3",
   "version": "3.8.10"
  }
 },
 "nbformat": 4,
 "nbformat_minor": 5
}
